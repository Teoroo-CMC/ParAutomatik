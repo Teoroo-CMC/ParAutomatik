{
 "cells": [
  {
   "cell_type": "markdown",
   "id": "06207701",
   "metadata": {},
   "source": [
    "# RUN SCC-DFTB+CCS+PiNN Simulations using ASE \n",
    "Input: SKF/, CCS/ and PiNN/ folders from ParAutomatik\n",
    "\n",
    "Simualtion type: \n",
    "- Geometry optimization\n",
    "- MD Simulations \n",
    "- and more "
   ]
  },
  {
   "cell_type": "code",
   "execution_count": null,
   "id": "159965e4",
   "metadata": {},
   "outputs": [],
   "source": [
    "PARAUTOMATIK_PATH='WRITE-Your-PATH-PARAUTOMATIK-Here'   # Add your installation path here"
   ]
  },
  {
   "cell_type": "code",
   "execution_count": null,
   "id": "c226ac1f-f66f-41d7-ac78-4da8d267af4d",
   "metadata": {},
   "outputs": [],
   "source": [
    "import os \n",
    "import sys\n",
    "from ase import Atoms\n",
    "from ase import io\n",
    "from ase.optimize import FIRE\n",
    "from ase.io import read, write\n",
    "from ase.calculators.dftb import Dftb\n",
    "from ase.calculators.mixing import LinearCombinationCalculator\n",
    "import json\n",
    "from ccs.ase_tools.ccs_ase_calculator import CCS  \n",
    "import numpy as np\n",
    "import pinn \n",
    "sys.path.append(PARAUTOMATIK_PATH+'/pgm/CCS/')\n",
    "\n",
    "base_dir=os.getcwd()\n",
    "os.chdir(base_dir)\n",
    "\n",
    "if not os.path.isdir(\"RUN_SIM/\"):\n",
    "    os.mkdir(\"RUN_SIM/\")\n",
    "\n",
    "os.chdir(\"RUN_SIM/\")\n",
    "cwd = os.getcwd() \n",
    "print('You are here',cwd) \n",
    "\n",
    "def setup_model(elements,spin,charge,**kwargs):\n",
    "\n",
    "    # set up model:\n",
    "    # 1: DFTB \n",
    "    os.environ[\"DFTB_PREFIX\"] = base_dir+\"/SKF/\"\n",
    "    DFTB_calc=Dftb(Hamiltonian_SCC='Yes',Hamiltonian_ShellResolvedSCC = 'Yes',Hamiltonian_SCCTolerance = '1.0E-006',Hamiltonian_Mixer= 'Anderson{',Hamiltonian_Mixer_MixingParameter='0.03',Hamiltonian_MaxSCCIterations = '1500',Hamiltonian_Filling = 'MethfesselPaxton{',Hamiltonian_Filling_Temperature = '0.001583407672623195',Hamiltonian_KPointsAndWeights = 'SupercellFolding {1 0 0 0 1 0 0 0 1 0.0 0.0 0.0}') \n",
    "    if spin>0:                  \n",
    "        DFTB_calc.set(Hamiltonian_SpinPolarisation = 'Colinear{') \n",
    "        DFTB_calc.set(Hamiltonian_SpinPolarisation_UnpairedElectrons=str(spin))\n",
    "        DFTB_calc.set(Hamiltonian_SpinConstants_ ='')\n",
    "        for i in elements: \n",
    "            print(i)\n",
    "            spinparam=get_spindata(i)\n",
    "            string=f'Hamiltonian_SpinConstants_{i}'  \n",
    "            print(string)\n",
    "            DFTB_calc.set(**{string:spinparam})  \n",
    "    if charge>0: \n",
    "        DFTB_calc.set(Hamiltonian_Charge =str(charge))\n",
    "    print(DFTB_calc.todict())     \n",
    "\n",
    "                     \n",
    "    #2: CCS \n",
    "    with open(base_dir+'/CCS/CCS_params.json', 'r') as f:\n",
    "        CCS_params = json.load(f)\n",
    "\n",
    "    CCS_calc=CCS(CCS_params=CCS_params) \n",
    "    #3: PiNN \n",
    "    PiNN_calc = pinn.get_calc(base_dir+'/PiNN/') \n",
    "    \n",
    "\n",
    "    # and the calculater becomes \n",
    "    calcs =[DFTB_calc,CCS_calc, PiNN_calc]\n",
    "    weights=[1,1,1]\n",
    "    calc=LinearCombinationCalculator(calcs, weights) \n",
    "    return calc            \n",
    "\n",
    "def get_spindata(element): \n",
    "    if element=='Li':\n",
    "        spinparam='{-0.019  -0.016  -0.016 -0.027}'\n",
    "    if element=='C':\n",
    "        spinparam='{-0.031 -0.025 -0.025 -0.023}'\n",
    "    if element=='O':\n",
    "        spinparam='{-0.035 -0.030 -0.030 -0.028}'\n",
    "    if element=='H':\n",
    "        spinparam='{-0.072}'\n",
    "    return spinparam        "
   ]
  },
  {
   "cell_type": "code",
   "execution_count": null,
   "id": "214cd210-321b-46c8-9fec-889e07c8459c",
   "metadata": {},
   "outputs": [],
   "source": [
    "# Geometry optimization\n",
    "# import structure:\n",
    "slab = io.read('../DFT_DB.db@0')\n",
    "elements=['C','H','O'] \n",
    "spin=0\n",
    "charge=0\n",
    "slab.calc=setup_model(elements, spin, charge)\n",
    "print(slab.calc)\n",
    "relax = FIRE(slab, trajectory='opt.traj')\n",
    "relax.run(fmax=0.05) "
   ]
  },
  {
   "cell_type": "code",
   "execution_count": null,
   "id": "07b0246f",
   "metadata": {},
   "outputs": [],
   "source": [
    "!ase gui out.traj"
   ]
  },
  {
   "cell_type": "code",
   "execution_count": null,
   "id": "0de9b2f8-f402-47ea-a0db-cd3e026021be",
   "metadata": {},
   "outputs": [],
   "source": [
    "# Read geometry optimized structure and run NVE Molecular dynamics \n",
    "from ase import units\n",
    "from ase.io import read, write\n",
    "from ase.io.trajectory import Trajectory\n",
    "from ase.md import MDLogger\n",
    "from ase.md.velocitydistribution import MaxwellBoltzmannDistribution\n",
    "from ase.md.nptberendsen import NPTBerendsen\n",
    "from ase.md.nvtberendsen import NVTBerendsen\n",
    "from ase.md.verlet import VelocityVerlet\n",
    "\n",
    "rng = np.random.default_rng(10)\n",
    "atoms = read(\"opt.traj\")\n",
    "atoms.set_calculator(calc)\n",
    "MaxwellBoltzmannDistribution(atoms, 873*units.kB, rng=rng)\n",
    "dt = 0.5 * units.fs\n",
    "steps = int(10)\n",
    "dyn = VelocityVerlet(atoms, timestep=dt)\n",
    "interval = int(1)\n",
    "dyn.attach(MDLogger(dyn, atoms, 'output.log', mode=\"a\"), interval=interval)\n",
    "dyn.attach(Trajectory('output.traj', 'a', atoms).write, interval=interval)\n",
    "dyn.run(steps)"
   ]
  },
  {
   "cell_type": "code",
   "execution_count": null,
   "id": "10cf77dc",
   "metadata": {},
   "outputs": [],
   "source": [
    "!ase gui output.traj "
   ]
  }
 ],
 "metadata": {
  "kernelspec": {
   "display_name": "Python 3",
   "language": "python",
   "name": "python3"
  },
  "language_info": {
   "codemirror_mode": {
    "name": "ipython",
    "version": 3
   },
   "file_extension": ".py",
   "mimetype": "text/x-python",
   "name": "python",
   "nbconvert_exporter": "python",
   "pygments_lexer": "ipython3",
   "version": "3.9.7"
  }
 },
 "nbformat": 4,
 "nbformat_minor": 5
}
