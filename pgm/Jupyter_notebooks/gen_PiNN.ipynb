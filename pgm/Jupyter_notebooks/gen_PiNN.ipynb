{
 "cells": [
  {
   "cell_type": "markdown",
   "id": "51683fcd-dc39-4391-af09-1897bc73615c",
   "metadata": {},
   "source": [
    "# PiNN model to generate a repulsive potential\n",
    "\n",
    "Input: DFTB_DB.db DFTB_DB.db CCS_DB.db \n",
    "\n",
    "Output: PiNN model to be used in conjunction with DFTB+CCS calculations. "
   ]
  },
  {
   "cell_type": "code",
   "execution_count": 1,
   "id": "4308a496-78e9-4779-b76d-95d9b85d988c",
   "metadata": {},
   "outputs": [
    {
     "name": "stderr",
     "output_type": "stream",
     "text": [
      "2022-01-11 11:31:33.851280: W tensorflow/stream_executor/platform/default/dso_loader.cc:64] Could not load dynamic library 'libcudart.so.11.0'; dlerror: libcudart.so.11.0: cannot open shared object file: No such file or directory; LD_LIBRARY_PATH: /home/broqvist/PGM/rdkit-Release_2016_03_1/lib:/usr/local/cuda-9.2/lib64:/home/broqvist/PGM/rdkit-Release_2016_03_1/lib:/usr/local/cuda-9.2/lib64::/usr/local/cuda-9.2/lib64:/usr/local/cuda-9.2/lib64\n",
      "2022-01-11 11:31:33.851310: I tensorflow/stream_executor/cuda/cudart_stub.cc:29] Ignore above cudart dlerror if you do not have a GPU set up on your machine.\n"
     ]
    },
    {
     "name": "stdout",
     "output_type": "stream",
     "text": [
      "Base dir: /home/broqvist/Desktop/parautomatik/EC\n"
     ]
    }
   ],
   "source": [
    "import os, sys, warnings\n",
    "import tensorflow as tf\n",
    "from glob import glob\n",
    "from collections import OrderedDict, defaultdict\n",
    "from ase.collections import g2\n",
    "import pinn\n",
    "from pinn.io import load_ase, sparse_batch\n",
    "\n",
    "#from pinn.models import potential_model\n",
    "#from pinn.calculator import PiNN_calc\n",
    "import warnings\n",
    "warnings.filterwarnings('ignore')\n",
    "# CPU is used for documentation generation, feel free to use your GPU!\n",
    "os.environ['CUDA_VISIBLE_DEVICES'] = ''\n",
    "import ase.db\n",
    "base_dir=os.getcwd()\n",
    "os.chdir(base_dir)\n",
    "print('Base dir:', base_dir)\n",
    "sys.path.append('../pgm/python_scripts')\n",
    "from rep_parautomatik import generate_pinndata\n",
    "\n",
    "# We heavily use indexed slices to do sparse summations,\n",
    "# which causes tensorflow to complain,\n",
    "# we believe it's safe to ignore this warning.\n",
    "index_warning = 'Converting sparse IndexedSlices'\n",
    "warnings.filterwarnings('ignore', index_warning)"
   ]
  },
  {
   "cell_type": "code",
   "execution_count": null,
   "id": "aab42fb0-8205-4d6b-9d4a-6dfc2dd2c6bf",
   "metadata": {},
   "outputs": [],
   "source": []
  },
  {
   "cell_type": "markdown",
   "id": "a7adc526-c6ce-404a-9028-dc2216e33925",
   "metadata": {},
   "source": [
    "# Generate the dataset \n",
    "Here we use the newly generated ase databases (DFTB_DB and CCS_DB) together with the original DFT_DB to create the training set for the training of the machine learning potential. The outpout of this step is \n",
    "\n",
    "- trainset.xyz\n",
    "- erep.dat\n",
    "- trainset_urep.xyz\n",
    "- erep_udftb.dat\n",
    "\n",
    "Here we use a 80:20 test set. "
   ]
  },
  {
   "cell_type": "code",
   "execution_count": null,
   "id": "40dd1496-3a4a-4bb0-8d7a-f0fe4b3db318",
   "metadata": {},
   "outputs": [],
   "source": [
    "# generate the data set \n",
    "os.chdir(base_dir)\n",
    "if not os.path.isdir(base_dir+\"/PiNN/\"):\n",
    "    os.mkdir(base_dir+\"/PiNN/\")\n",
    "\n",
    "db_ccs=ase.db.connect(\"CCS_DB.db\")     # CCS database\n",
    "db_dft=ase.db.connect(\"DFT_DB.db\")     # DFT database, original keys for structure\n",
    "db_dftb=ase.db.connect(\"DFTB_DB.db\")   # DFTB database  \n",
    "\n",
    "os.chdir(base_dir+\"/PiNN/\")\n",
    "generate_pinndata(db_dft,db_dftb,db_ccs)\n",
    "os.chdir(base_dir)"
   ]
  },
  {
   "cell_type": "code",
   "execution_count": 2,
   "id": "0ba5f346-0f47-41a5-8bbd-4c3d3e4569cf",
   "metadata": {},
   "outputs": [],
   "source": [
    "os.chdir(base_dir)\n",
    "os.chdir(base_dir+\"/PiNN/\")\n",
    "\n",
    "from pinn.io import load_ase, write_tfrecord\n",
    "\n",
    "filelist = 'trainset.xyz'\n",
    "dataset = lambda: load_ase(filelist, splits={'train':8, 'test':2})\n",
    "train = lambda: dataset()['train'].repeat().shuffle(1000).apply(sparse_batch(1))\n",
    "test = lambda: dataset()['test'].apply(sparse_batch(1))\n",
    "os.chdir(base_dir)"
   ]
  },
  {
   "cell_type": "code",
   "execution_count": null,
   "id": "c8477fc4-f194-43a1-b201-2ebbb969e15a",
   "metadata": {},
   "outputs": [],
   "source": []
  },
  {
   "cell_type": "markdown",
   "id": "bd250bd3-9c9b-4a87-999b-404af7cc70cd",
   "metadata": {},
   "source": [
    "# Train PiNN "
   ]
  },
  {
   "cell_type": "code",
   "execution_count": 3,
   "id": "1d979a81-0e41-4008-95d0-ea5b40e4ee6b",
   "metadata": {},
   "outputs": [
    {
     "data": {
      "text/html": [
       "\n",
       "      <iframe id=\"tensorboard-frame-217bac744123e6d5\" width=\"100%\" height=\"800\" frameborder=\"0\">\n",
       "      </iframe>\n",
       "      <script>\n",
       "        (function() {\n",
       "          const frame = document.getElementById(\"tensorboard-frame-217bac744123e6d5\");\n",
       "          const url = new URL(\"/\", window.location);\n",
       "          const port = 6006;\n",
       "          if (port) {\n",
       "            url.port = port;\n",
       "          }\n",
       "          frame.src = url;\n",
       "        })();\n",
       "      </script>\n",
       "    "
      ],
      "text/plain": [
       "<IPython.core.display.HTML object>"
      ]
     },
     "metadata": {},
     "output_type": "display_data"
    }
   ],
   "source": [
    "os.chdir(base_dir)\n",
    "#start tensorboard\n",
    "##!kill 26028\n",
    "%load_ext tensorboard\n",
    "%tensorboard --logdir /home/broqvist/Desktop/parautomatik/EC/\n"
   ]
  },
  {
   "cell_type": "code",
   "execution_count": 4,
   "id": "4430e108-8176-488e-af1e-7a200ee02ae4",
   "metadata": {},
   "outputs": [
    {
     "name": "stdout",
     "output_type": "stream",
     "text": [
      "[6, 1, 8]\n",
      "{'model_dir': './', 'network': {'name': 'PiNet', 'params': {'pp_nodes': [8, 8], 'pi_nodes': [8, 8], 'ii_nodes': [8, 8], 'basis_type': 'gaussian', 'n_basis': 5, 'depth': 4, 'rc': 4.0, 'atom_types': [6, 1, 8]}}, 'model': {'name': 'potential_model', 'params': {'use_force': True}}, 'optimizer': {'class_name': 'EKF', 'config': {'learning_rate': 0.001, 'q_0': 0.0, 'q_min': 0.0}}}\n",
      "INFO:tensorflow:Using default config.\n",
      "INFO:tensorflow:Using config: {'_model_dir': './', '_tf_random_seed': None, '_save_summary_steps': 100, '_save_checkpoints_steps': None, '_save_checkpoints_secs': 600, '_session_config': allow_soft_placement: true\n",
      "graph_options {\n",
      "  rewrite_options {\n",
      "    meta_optimizer_iterations: ONE\n",
      "  }\n",
      "}\n",
      ", '_keep_checkpoint_max': 5, '_keep_checkpoint_every_n_hours': 10000, '_log_step_count_steps': 100, '_train_distribute': None, '_device_fn': None, '_protocol': None, '_eval_distribute': None, '_experimental_distribute': None, '_experimental_max_worker_delay_secs': None, '_session_creation_timeout_secs': 7200, '_checkpoint_save_graph_def': True, '_service': None, '_cluster_spec': ClusterSpec({}), '_task_type': 'worker', '_task_id': 0, '_global_id_in_cluster': 0, '_master': '', '_evaluation_master': '', '_is_chief': True, '_num_ps_replicas': 0, '_num_worker_replicas': 1}\n"
     ]
    }
   ],
   "source": [
    "from pinn import get_model\n",
    "import ase.db as db\n",
    "os.chdir(base_dir)\n",
    "DFT_DB=db.connect(\"DFTB_DB.db\")\n",
    "elements=[]\n",
    "for row in DFT_DB.select('1<id<10'):\n",
    "    structure=row.toatoms()\n",
    "    a=structure.get_atomic_numbers()\n",
    "    for i in a: \n",
    "        if i not in elements:\n",
    "            elements.append(i)\n",
    "print(elements)\n",
    "os.chdir(base_dir+\"/PiNN/\")\n",
    "\n",
    "params={'model_dir': './',\n",
    "          'network': {\n",
    "              'name': 'PiNet',\n",
    "              'params': {\n",
    "                  'pp_nodes': [8,8],\n",
    "                  'pi_nodes':[8,8],\n",
    "                  'ii_nodes': [8,8],\n",
    "                  'basis_type': 'gaussian',\n",
    "                  'n_basis': 5,\n",
    "                  'depth': 4,\n",
    "                  'rc':4.0,\n",
    "                  'atom_types':elements\n",
    "              },\n",
    "          },\n",
    "          'model': {\n",
    "              'name': 'potential_model',\n",
    "              'params': {\n",
    "                  'use_force': True, \n",
    "              }},\n",
    "        'optimizer': {\n",
    "    'class_name': 'EKF',\n",
    "    'config': {\n",
    "        'learning_rate': 0.001,\n",
    "        'q_0': 0.000000,\n",
    "        'q_min': 0.00000000,\n",
    "    }}\n",
    "}\n",
    "\n",
    "from pinn.utils import init_params \n",
    "print(params) \n",
    "#init_params(params, train) #ds['train'])\n",
    "\n",
    "model = get_model(params)\n",
    "\n",
    "os.chdir(base_dir)"
   ]
  },
  {
   "cell_type": "code",
   "execution_count": 13,
   "id": "999d040b-7385-41ee-bcc5-db22f3d32b29",
   "metadata": {},
   "outputs": [],
   "source": [
    "os.chdir(base_dir)\n",
    "os.chdir(base_dir+\"/PiNN/\")\n",
    "train_spec = tf.estimator.TrainSpec(input_fn=train, max_steps=50000)\n",
    "eval_spec = tf.estimator.EvalSpec(input_fn=test)\n",
    "os.chdir(base_dir)"
   ]
  },
  {
   "cell_type": "code",
   "execution_count": null,
   "id": "19116fff-37fc-44d8-9833-a9b2b978fc0d",
   "metadata": {},
   "outputs": [
    {
     "name": "stdout",
     "output_type": "stream",
     "text": [
      "INFO:tensorflow:Not using Distribute Coordinator.\n",
      "INFO:tensorflow:Running training and evaluation locally (non-distributed).\n",
      "INFO:tensorflow:Start train and evaluate loop. The evaluate will happen after every checkpoint. Checkpoint frequency is determined based on RunConfig arguments: save_checkpoints_steps None or save_checkpoints_secs 600.\n",
      "INFO:tensorflow:Calling model_fn.\n",
      "4600 trainable vaiabless, training with float32 precision.\n",
      "INFO:tensorflow:Done calling model_fn.\n",
      "INFO:tensorflow:Create CheckpointSaverHook.\n",
      "INFO:tensorflow:Graph was finalized.\n",
      "INFO:tensorflow:Restoring parameters from ./model.ckpt-10000\n",
      "INFO:tensorflow:Running local_init_op.\n",
      "INFO:tensorflow:Done running local_init_op.\n",
      "INFO:tensorflow:Calling checkpoint listeners before saving checkpoint 10000...\n",
      "INFO:tensorflow:Saving checkpoints for 10000 into ./model.ckpt.\n",
      "INFO:tensorflow:Calling checkpoint listeners after saving checkpoint 10000...\n",
      "INFO:tensorflow:loss = 0.17762345, step = 10000\n",
      "INFO:tensorflow:global_step/sec: 3.38498\n",
      "INFO:tensorflow:loss = 1.7295629, step = 10100 (29.547 sec)\n",
      "INFO:tensorflow:global_step/sec: 3.9902\n",
      "INFO:tensorflow:loss = 0.19821414, step = 10200 (25.066 sec)\n",
      "INFO:tensorflow:global_step/sec: 3.90721\n",
      "INFO:tensorflow:loss = 1.6881508, step = 10300 (25.589 sec)\n",
      "INFO:tensorflow:global_step/sec: 3.96559\n",
      "INFO:tensorflow:loss = 76.85275, step = 10400 (25.218 sec)\n",
      "INFO:tensorflow:global_step/sec: 3.98103\n",
      "INFO:tensorflow:loss = 1.2553208, step = 10500 (25.121 sec)\n",
      "INFO:tensorflow:global_step/sec: 3.92157\n",
      "INFO:tensorflow:loss = 0.4058793, step = 10600 (25.496 sec)\n",
      "INFO:tensorflow:global_step/sec: 3.99924\n",
      "INFO:tensorflow:loss = 0.3380101, step = 10700 (25.005 sec)\n",
      "INFO:tensorflow:global_step/sec: 3.95933\n",
      "INFO:tensorflow:loss = 0.1547011, step = 10800 (25.257 sec)\n",
      "INFO:tensorflow:global_step/sec: 3.93411\n",
      "INFO:tensorflow:loss = 0.37297767, step = 10900 (25.419 sec)\n",
      "INFO:tensorflow:global_step/sec: 3.89911\n",
      "INFO:tensorflow:loss = 33.805347, step = 11000 (25.646 sec)\n",
      "INFO:tensorflow:global_step/sec: 3.94008\n",
      "INFO:tensorflow:loss = 55.415398, step = 11100 (25.380 sec)\n",
      "INFO:tensorflow:global_step/sec: 4.00985\n",
      "INFO:tensorflow:loss = 77.03966, step = 11200 (24.939 sec)\n",
      "INFO:tensorflow:global_step/sec: 3.99984\n",
      "INFO:tensorflow:loss = 0.19182794, step = 11300 (25.001 sec)\n",
      "INFO:tensorflow:global_step/sec: 3.94967\n",
      "INFO:tensorflow:loss = 0.27842844, step = 11400 (25.319 sec)\n",
      "INFO:tensorflow:global_step/sec: 4.02818\n",
      "INFO:tensorflow:loss = 0.105771594, step = 11500 (24.825 sec)\n",
      "INFO:tensorflow:global_step/sec: 3.97347\n",
      "INFO:tensorflow:loss = 0.17239575, step = 11600 (25.168 sec)\n",
      "INFO:tensorflow:global_step/sec: 3.97595\n",
      "INFO:tensorflow:loss = 0.17950182, step = 11700 (25.155 sec)\n",
      "INFO:tensorflow:global_step/sec: 3.93564\n",
      "INFO:tensorflow:loss = 0.35140103, step = 11800 (25.404 sec)\n",
      "INFO:tensorflow:global_step/sec: 3.98079\n",
      "INFO:tensorflow:loss = 2.5564692, step = 11900 (25.121 sec)\n",
      "INFO:tensorflow:global_step/sec: 3.89234\n",
      "INFO:tensorflow:loss = 0.09835148, step = 12000 (25.691 sec)\n",
      "INFO:tensorflow:global_step/sec: 3.9303\n",
      "INFO:tensorflow:loss = 0.21268272, step = 12100 (25.446 sec)\n",
      "INFO:tensorflow:global_step/sec: 3.97793\n",
      "INFO:tensorflow:loss = 1.1676687, step = 12200 (25.136 sec)\n",
      "INFO:tensorflow:global_step/sec: 3.97442\n",
      "INFO:tensorflow:loss = 1.1731694, step = 12300 (25.161 sec)\n",
      "INFO:tensorflow:Calling checkpoint listeners before saving checkpoint 12336...\n",
      "INFO:tensorflow:Saving checkpoints for 12336 into ./model.ckpt.\n",
      "INFO:tensorflow:Calling checkpoint listeners after saving checkpoint 12336...\n",
      "INFO:tensorflow:Calling model_fn.\n",
      "INFO:tensorflow:Done calling model_fn.\n",
      "INFO:tensorflow:Starting evaluation at 2022-01-11T13:44:41\n",
      "INFO:tensorflow:Graph was finalized.\n",
      "INFO:tensorflow:Restoring parameters from ./model.ckpt-12336\n",
      "INFO:tensorflow:Running local_init_op.\n",
      "INFO:tensorflow:Done running local_init_op.\n",
      "INFO:tensorflow:Evaluation [10/100]\n",
      "INFO:tensorflow:Evaluation [20/100]\n",
      "INFO:tensorflow:Evaluation [30/100]\n",
      "INFO:tensorflow:Evaluation [40/100]\n",
      "INFO:tensorflow:Evaluation [50/100]\n",
      "INFO:tensorflow:Evaluation [60/100]\n",
      "INFO:tensorflow:Evaluation [70/100]\n",
      "INFO:tensorflow:Evaluation [80/100]\n",
      "INFO:tensorflow:Evaluation [90/100]\n",
      "INFO:tensorflow:Evaluation [100/100]\n",
      "INFO:tensorflow:Inference Time : 1.38542s\n",
      "INFO:tensorflow:Finished evaluation at 2022-01-11-13:44:42\n",
      "INFO:tensorflow:Saving dict for global step 12336: METRICS/E_LOSS = 2.3232267, METRICS/E_MAE = 0.7651756, METRICS/E_RMSE = 1.5242134, METRICS/F_LOSS = 8.415578, METRICS/F_MAE = 0.93890566, METRICS/F_RMSE = 2.9009619, global_step = 12336, loss = 10.738808\n",
      "INFO:tensorflow:Saving 'checkpoint_path' summary for global step 12336: ./model.ckpt-12336\n",
      "INFO:tensorflow:global_step/sec: 1.55262\n",
      "INFO:tensorflow:loss = 1.0558732, step = 12400 (64.407 sec)\n",
      "INFO:tensorflow:global_step/sec: 3.95134\n",
      "INFO:tensorflow:loss = 0.9575335, step = 12500 (25.308 sec)\n",
      "INFO:tensorflow:global_step/sec: 3.99662\n",
      "INFO:tensorflow:loss = 0.19261421, step = 12600 (25.021 sec)\n",
      "INFO:tensorflow:global_step/sec: 3.97011\n",
      "INFO:tensorflow:loss = 2.1353354, step = 12700 (25.188 sec)\n",
      "INFO:tensorflow:global_step/sec: 4.02341\n",
      "INFO:tensorflow:loss = 0.11730272, step = 12800 (24.854 sec)\n",
      "INFO:tensorflow:global_step/sec: 3.97622\n",
      "INFO:tensorflow:loss = 0.25716785, step = 12900 (25.150 sec)\n",
      "INFO:tensorflow:global_step/sec: 3.93765\n",
      "INFO:tensorflow:loss = 1.082819, step = 13000 (25.396 sec)\n",
      "INFO:tensorflow:global_step/sec: 3.99833\n",
      "INFO:tensorflow:loss = 0.40980667, step = 13100 (25.014 sec)\n",
      "INFO:tensorflow:global_step/sec: 3.91716\n",
      "INFO:tensorflow:loss = 0.24483576, step = 13200 (25.526 sec)\n",
      "INFO:tensorflow:global_step/sec: 3.88983\n",
      "INFO:tensorflow:loss = 0.40157372, step = 13300 (25.709 sec)\n",
      "INFO:tensorflow:global_step/sec: 3.98396\n",
      "INFO:tensorflow:loss = 0.19614552, step = 13400 (25.102 sec)\n",
      "INFO:tensorflow:global_step/sec: 3.95837\n",
      "INFO:tensorflow:loss = 0.16035637, step = 13500 (25.260 sec)\n",
      "INFO:tensorflow:global_step/sec: 3.99365\n",
      "INFO:tensorflow:loss = 2.184337, step = 13600 (25.040 sec)\n",
      "INFO:tensorflow:global_step/sec: 3.95177\n",
      "INFO:tensorflow:loss = 0.67442054, step = 13700 (25.305 sec)\n",
      "INFO:tensorflow:global_step/sec: 3.92403\n",
      "INFO:tensorflow:loss = 5.079327, step = 13800 (25.484 sec)\n",
      "INFO:tensorflow:global_step/sec: 3.98661\n",
      "INFO:tensorflow:loss = 0.9682404, step = 13900 (25.084 sec)\n",
      "INFO:tensorflow:global_step/sec: 3.91867\n",
      "INFO:tensorflow:loss = 0.26305494, step = 14000 (25.519 sec)\n",
      "INFO:tensorflow:global_step/sec: 3.90257\n",
      "INFO:tensorflow:loss = 0.7647666, step = 14100 (25.624 sec)\n",
      "INFO:tensorflow:global_step/sec: 3.92776\n",
      "INFO:tensorflow:loss = 0.19221368, step = 14200 (25.459 sec)\n",
      "INFO:tensorflow:global_step/sec: 3.92063\n",
      "INFO:tensorflow:loss = 0.17268378, step = 14300 (25.507 sec)\n",
      "INFO:tensorflow:global_step/sec: 3.96129\n",
      "INFO:tensorflow:loss = 0.15041344, step = 14400 (25.244 sec)\n",
      "INFO:tensorflow:global_step/sec: 3.96646\n",
      "INFO:tensorflow:loss = 0.22790489, step = 14500 (25.211 sec)\n",
      "INFO:tensorflow:Calling checkpoint listeners before saving checkpoint 14557...\n",
      "INFO:tensorflow:Saving checkpoints for 14557 into ./model.ckpt.\n",
      "INFO:tensorflow:Calling checkpoint listeners after saving checkpoint 14557...\n",
      "INFO:tensorflow:Calling model_fn.\n",
      "INFO:tensorflow:Done calling model_fn.\n",
      "INFO:tensorflow:Starting evaluation at 2022-01-11T13:55:18\n",
      "INFO:tensorflow:Graph was finalized.\n",
      "INFO:tensorflow:Restoring parameters from ./model.ckpt-14557\n",
      "INFO:tensorflow:Running local_init_op.\n",
      "INFO:tensorflow:Done running local_init_op.\n",
      "INFO:tensorflow:Evaluation [10/100]\n",
      "INFO:tensorflow:Evaluation [20/100]\n",
      "INFO:tensorflow:Evaluation [30/100]\n",
      "INFO:tensorflow:Evaluation [40/100]\n",
      "INFO:tensorflow:Evaluation [50/100]\n",
      "INFO:tensorflow:Evaluation [60/100]\n",
      "INFO:tensorflow:Evaluation [70/100]\n",
      "INFO:tensorflow:Evaluation [80/100]\n",
      "INFO:tensorflow:Evaluation [90/100]\n",
      "INFO:tensorflow:Evaluation [100/100]\n",
      "INFO:tensorflow:Inference Time : 1.51066s\n",
      "INFO:tensorflow:Finished evaluation at 2022-01-11-13:55:19\n",
      "INFO:tensorflow:Saving dict for global step 14557: METRICS/E_LOSS = 2.2109299, METRICS/E_MAE = 0.68495107, METRICS/E_RMSE = 1.4869196, METRICS/F_LOSS = 8.337281, METRICS/F_MAE = 0.9328442, METRICS/F_RMSE = 2.8874352, global_step = 14557, loss = 10.54821\n",
      "INFO:tensorflow:Saving 'checkpoint_path' summary for global step 14557: ./model.ckpt-14557\n",
      "INFO:tensorflow:global_step/sec: 0.990335\n",
      "INFO:tensorflow:loss = 119.33932, step = 14600 (100.976 sec)\n",
      "INFO:tensorflow:global_step/sec: 3.87329\n",
      "INFO:tensorflow:loss = 2.8375502, step = 14700 (25.818 sec)\n",
      "INFO:tensorflow:global_step/sec: 3.93429\n",
      "INFO:tensorflow:loss = 0.7505981, step = 14800 (25.418 sec)\n"
     ]
    },
    {
     "name": "stderr",
     "output_type": "stream",
     "text": [
      "IOStream.flush timed out\n"
     ]
    },
    {
     "name": "stdout",
     "output_type": "stream",
     "text": [
      "INFO:tensorflow:global_step/sec: 1.98135\n",
      "INFO:tensorflow:loss = 2.2646966, step = 14900 (50.471 sec)\n",
      "INFO:tensorflow:global_step/sec: 3.95983\n",
      "INFO:tensorflow:loss = 0.5892699, step = 15000 (25.254 sec)\n",
      "INFO:tensorflow:global_step/sec: 3.03969\n",
      "INFO:tensorflow:loss = 0.92227274, step = 15100 (32.902 sec)\n",
      "INFO:tensorflow:global_step/sec: 3.90388\n",
      "INFO:tensorflow:loss = 0.43481776, step = 15200 (25.611 sec)\n",
      "INFO:tensorflow:global_step/sec: 3.91999\n",
      "INFO:tensorflow:loss = 0.15804137, step = 15300 (25.510 sec)\n",
      "INFO:tensorflow:global_step/sec: 3.9664\n",
      "INFO:tensorflow:loss = 0.618212, step = 15400 (25.214 sec)\n",
      "INFO:tensorflow:global_step/sec: 3.86747\n",
      "INFO:tensorflow:loss = 0.16183354, step = 15500 (25.857 sec)\n",
      "INFO:tensorflow:global_step/sec: 3.87527\n",
      "INFO:tensorflow:loss = 1.6526997, step = 15600 (25.803 sec)\n"
     ]
    }
   ],
   "source": [
    "os.chdir(base_dir)\n",
    "os.chdir(base_dir+\"/PiNN/\")\n",
    "tf.estimator.train_and_evaluate(model, train_spec, eval_spec)\n",
    "os.chdir(base_dir)"
   ]
  },
  {
   "cell_type": "markdown",
   "id": "2b1925af-280c-4531-affc-9454b1a8c9f2",
   "metadata": {},
   "source": [
    "# Analysis of potential and data\n",
    "\n",
    "Search for outliers and problematic data points. "
   ]
  },
  {
   "cell_type": "code",
   "execution_count": 8,
   "id": "191fef29-1bc1-49d1-9db9-de5fbf15fe1c",
   "metadata": {},
   "outputs": [],
   "source": [
    "import warnings\n",
    "warnings.filterwarnings('ignore')\n",
    "def evalsth(model,test):\n",
    "    from pinn.io import load_tfrecord, sparse_batch\n",
    "    from pinn import get_model\n",
    "    import numpy as np\n",
    "    ds = lambda: dataset()['test'].apply(sparse_batch(1))\n",
    "    #ds = lambda: load_tfrecord(f'../DFTB-EuOZn/{name}/train.yml').apply(sparse_batch(1))\n",
    "    natoms = np.array([len(dat['elems']) for dat in ds().as_numpy_iterator()])\n",
    "    labels = [dat['e_data'][0] for dat in ds().as_numpy_iterator()]\n",
    "    preds = [pred['energy'] for pred in model.predict(ds)]\n",
    "    errors = np.array(labels) - preds\n",
    "    return errors, np.array(preds)/natoms, np.array(labels)/natoms, ds\n",
    "\n",
    "def get_struct(ds, idx):\n",
    "    from ase import Atoms\n",
    "    for i, dat in enumerate(ds().as_numpy_iterator()):\n",
    "        if idx==i:\n",
    "            return Atoms(dat['elems'], positions=dat['coord'], cell=dat['cell'][0])"
   ]
  },
  {
   "cell_type": "code",
   "execution_count": 9,
   "id": "1659d4ad-1a72-4724-bd5f-564875ac9626",
   "metadata": {},
   "outputs": [
    {
     "name": "stdout",
     "output_type": "stream",
     "text": [
      "INFO:tensorflow:Calling model_fn.\n",
      "INFO:tensorflow:Done calling model_fn.\n",
      "INFO:tensorflow:Graph was finalized.\n",
      "INFO:tensorflow:Restoring parameters from ./model.ckpt-10000\n",
      "INFO:tensorflow:Running local_init_op.\n",
      "INFO:tensorflow:Done running local_init_op.\n"
     ]
    }
   ],
   "source": [
    "os.chdir(base_dir)\n",
    "os.chdir(base_dir+\"/PiNN/\")\n",
    "\n",
    "error, pred, label, ds = evalsth(model,test)\n",
    "os.chdir(base_dir)"
   ]
  },
  {
   "cell_type": "code",
   "execution_count": 10,
   "id": "de182cf1-48d9-43f8-9108-51c9ee4d5678",
   "metadata": {},
   "outputs": [
    {
     "name": "stdout",
     "output_type": "stream",
     "text": [
      "[1.9692128 1.9842427 2.0959153 2.2677197 2.4487443 3.093391  3.3504305\n",
      " 4.4604    5.502864  5.6152554]\n",
      "max= 191\n"
     ]
    },
    {
     "data": {
      "image/png": "[encoded data removed]",
      "text/plain": [
       "<Figure size 432x288 with 1 Axes>"
      ]
     },
     "metadata": {
      "needs_background": "light"
     },
     "output_type": "display_data"
    }
   ],
   "source": [
    "%matplotlib inline\n",
    "\n",
    "import numpy as np\n",
    "import matplotlib.pyplot as plt\n",
    "\n",
    "\n",
    "plt.hist(error, 50)\n",
    "print(np.sort(error)[-10:])\n",
    "stm=np.argmax(error)\n",
    "\n",
    "\n",
    "print('max=',stm)"
   ]
  },
  {
   "cell_type": "code",
   "execution_count": 11,
   "id": "8881e908-a231-425d-92f2-9a4f686803bc",
   "metadata": {},
   "outputs": [
    {
     "data": {
      "text/plain": [
       "[<matplotlib.lines.Line2D at 0x7fa30c7a8f70>]"
      ]
     },
     "execution_count": 11,
     "metadata": {},
     "output_type": "execute_result"
    },
    {
     "data": {
      "image/png": "[encoded data removed]",
      "text/plain": [
       "<Figure size 432x288 with 1 Axes>"
      ]
     },
     "metadata": {
      "needs_background": "light"
     },
     "output_type": "display_data"
    }
   ],
   "source": [
    "plt.plot([np.min(label),np.max(label)], [np.min(pred),np.max(pred)], 'k-', lw=0.5)\n",
    "\n",
    "plt.scatter(label, pred, s=5)\n",
    "plt.plot(label[stm], pred[stm], 'rx', ms=10)\n",
    "#plt.xlim(99.5,102)\n",
    "#plt.ylim(99.5,102)\n",
    "\n"
   ]
  },
  {
   "cell_type": "code",
   "execution_count": 12,
   "id": "1d161033-5ab6-4db7-a5f9-ace59ba69e71",
   "metadata": {},
   "outputs": [
    {
     "ename": "FileNotFoundError",
     "evalue": "[Errno 2] No such file or directory: 'trainset.xyz'",
     "output_type": "error",
     "traceback": [
      "\u001b[0;31m---------------------------------------------------------------------------\u001b[0m",
      "\u001b[0;31mFileNotFoundError\u001b[0m                         Traceback (most recent call last)",
      "\u001b[0;32m/tmp/ipykernel_29631/923863297.py\u001b[0m in \u001b[0;36m<module>\u001b[0;34m\u001b[0m\n\u001b[1;32m      1\u001b[0m \u001b[0;32mfrom\u001b[0m \u001b[0mase\u001b[0m\u001b[0;34m.\u001b[0m\u001b[0mvisualize\u001b[0m \u001b[0;32mimport\u001b[0m \u001b[0mview\u001b[0m\u001b[0;34m\u001b[0m\u001b[0;34m\u001b[0m\u001b[0m\n\u001b[0;32m----> 2\u001b[0;31m \u001b[0matoms\u001b[0m \u001b[0;34m=\u001b[0m \u001b[0mget_struct\u001b[0m\u001b[0;34m(\u001b[0m\u001b[0mds\u001b[0m\u001b[0;34m,\u001b[0m \u001b[0mstm\u001b[0m\u001b[0;34m)\u001b[0m\u001b[0;34m\u001b[0m\u001b[0;34m\u001b[0m\u001b[0m\n\u001b[0m\u001b[1;32m      3\u001b[0m \u001b[0;34m\u001b[0m\u001b[0m\n\u001b[1;32m      4\u001b[0m \u001b[0;34m\u001b[0m\u001b[0m\n\u001b[1;32m      5\u001b[0m \u001b[0mview\u001b[0m\u001b[0;34m(\u001b[0m\u001b[0matoms\u001b[0m\u001b[0;34m)\u001b[0m\u001b[0;34m\u001b[0m\u001b[0;34m\u001b[0m\u001b[0m\n",
      "\u001b[0;32m/tmp/ipykernel_29631/3076596799.py\u001b[0m in \u001b[0;36mget_struct\u001b[0;34m(ds, idx)\u001b[0m\n\u001b[1;32m     15\u001b[0m \u001b[0;32mdef\u001b[0m \u001b[0mget_struct\u001b[0m\u001b[0;34m(\u001b[0m\u001b[0mds\u001b[0m\u001b[0;34m,\u001b[0m \u001b[0midx\u001b[0m\u001b[0;34m)\u001b[0m\u001b[0;34m:\u001b[0m\u001b[0;34m\u001b[0m\u001b[0;34m\u001b[0m\u001b[0m\n\u001b[1;32m     16\u001b[0m     \u001b[0;32mfrom\u001b[0m \u001b[0mase\u001b[0m \u001b[0;32mimport\u001b[0m \u001b[0mAtoms\u001b[0m\u001b[0;34m\u001b[0m\u001b[0;34m\u001b[0m\u001b[0m\n\u001b[0;32m---> 17\u001b[0;31m     \u001b[0;32mfor\u001b[0m \u001b[0mi\u001b[0m\u001b[0;34m,\u001b[0m \u001b[0mdat\u001b[0m \u001b[0;32min\u001b[0m \u001b[0menumerate\u001b[0m\u001b[0;34m(\u001b[0m\u001b[0mds\u001b[0m\u001b[0;34m(\u001b[0m\u001b[0;34m)\u001b[0m\u001b[0;34m.\u001b[0m\u001b[0mas_numpy_iterator\u001b[0m\u001b[0;34m(\u001b[0m\u001b[0;34m)\u001b[0m\u001b[0;34m)\u001b[0m\u001b[0;34m:\u001b[0m\u001b[0;34m\u001b[0m\u001b[0;34m\u001b[0m\u001b[0m\n\u001b[0m\u001b[1;32m     18\u001b[0m         \u001b[0;32mif\u001b[0m \u001b[0midx\u001b[0m\u001b[0;34m==\u001b[0m\u001b[0mi\u001b[0m\u001b[0;34m:\u001b[0m\u001b[0;34m\u001b[0m\u001b[0;34m\u001b[0m\u001b[0m\n\u001b[1;32m     19\u001b[0m             \u001b[0;32mreturn\u001b[0m \u001b[0mAtoms\u001b[0m\u001b[0;34m(\u001b[0m\u001b[0mdat\u001b[0m\u001b[0;34m[\u001b[0m\u001b[0;34m'elems'\u001b[0m\u001b[0;34m]\u001b[0m\u001b[0;34m,\u001b[0m \u001b[0mpositions\u001b[0m\u001b[0;34m=\u001b[0m\u001b[0mdat\u001b[0m\u001b[0;34m[\u001b[0m\u001b[0;34m'coord'\u001b[0m\u001b[0;34m]\u001b[0m\u001b[0;34m,\u001b[0m \u001b[0mcell\u001b[0m\u001b[0;34m=\u001b[0m\u001b[0mdat\u001b[0m\u001b[0;34m[\u001b[0m\u001b[0;34m'cell'\u001b[0m\u001b[0;34m]\u001b[0m\u001b[0;34m[\u001b[0m\u001b[0;36m0\u001b[0m\u001b[0;34m]\u001b[0m\u001b[0;34m)\u001b[0m\u001b[0;34m\u001b[0m\u001b[0;34m\u001b[0m\u001b[0m\n",
      "\u001b[0;32m/tmp/ipykernel_29631/3076596799.py\u001b[0m in \u001b[0;36m<lambda>\u001b[0;34m()\u001b[0m\n\u001b[1;32m      5\u001b[0m     \u001b[0;32mfrom\u001b[0m \u001b[0mpinn\u001b[0m \u001b[0;32mimport\u001b[0m \u001b[0mget_model\u001b[0m\u001b[0;34m\u001b[0m\u001b[0;34m\u001b[0m\u001b[0m\n\u001b[1;32m      6\u001b[0m     \u001b[0;32mimport\u001b[0m \u001b[0mnumpy\u001b[0m \u001b[0;32mas\u001b[0m \u001b[0mnp\u001b[0m\u001b[0;34m\u001b[0m\u001b[0;34m\u001b[0m\u001b[0m\n\u001b[0;32m----> 7\u001b[0;31m     \u001b[0mds\u001b[0m \u001b[0;34m=\u001b[0m \u001b[0;32mlambda\u001b[0m\u001b[0;34m:\u001b[0m \u001b[0mdataset\u001b[0m\u001b[0;34m(\u001b[0m\u001b[0;34m)\u001b[0m\u001b[0;34m[\u001b[0m\u001b[0;34m'test'\u001b[0m\u001b[0;34m]\u001b[0m\u001b[0;34m.\u001b[0m\u001b[0mapply\u001b[0m\u001b[0;34m(\u001b[0m\u001b[0msparse_batch\u001b[0m\u001b[0;34m(\u001b[0m\u001b[0;36m1\u001b[0m\u001b[0;34m)\u001b[0m\u001b[0;34m)\u001b[0m\u001b[0;34m\u001b[0m\u001b[0;34m\u001b[0m\u001b[0m\n\u001b[0m\u001b[1;32m      8\u001b[0m     \u001b[0;31m#ds = lambda: load_tfrecord(f'../DFTB-EuOZn/{name}/train.yml').apply(sparse_batch(1))\u001b[0m\u001b[0;34m\u001b[0m\u001b[0;34m\u001b[0m\u001b[0m\n\u001b[1;32m      9\u001b[0m     \u001b[0mnatoms\u001b[0m \u001b[0;34m=\u001b[0m \u001b[0mnp\u001b[0m\u001b[0;34m.\u001b[0m\u001b[0marray\u001b[0m\u001b[0;34m(\u001b[0m\u001b[0;34m[\u001b[0m\u001b[0mlen\u001b[0m\u001b[0;34m(\u001b[0m\u001b[0mdat\u001b[0m\u001b[0;34m[\u001b[0m\u001b[0;34m'elems'\u001b[0m\u001b[0;34m]\u001b[0m\u001b[0;34m)\u001b[0m \u001b[0;32mfor\u001b[0m \u001b[0mdat\u001b[0m \u001b[0;32min\u001b[0m \u001b[0mds\u001b[0m\u001b[0;34m(\u001b[0m\u001b[0;34m)\u001b[0m\u001b[0;34m.\u001b[0m\u001b[0mas_numpy_iterator\u001b[0m\u001b[0;34m(\u001b[0m\u001b[0;34m)\u001b[0m\u001b[0;34m]\u001b[0m\u001b[0;34m)\u001b[0m\u001b[0;34m\u001b[0m\u001b[0;34m\u001b[0m\u001b[0m\n",
      "\u001b[0;32m/tmp/ipykernel_29631/3037783145.py\u001b[0m in \u001b[0;36m<lambda>\u001b[0;34m()\u001b[0m\n\u001b[1;32m      5\u001b[0m \u001b[0;34m\u001b[0m\u001b[0m\n\u001b[1;32m      6\u001b[0m \u001b[0mfilelist\u001b[0m \u001b[0;34m=\u001b[0m \u001b[0;34m'trainset.xyz'\u001b[0m\u001b[0;34m\u001b[0m\u001b[0;34m\u001b[0m\u001b[0m\n\u001b[0;32m----> 7\u001b[0;31m \u001b[0mdataset\u001b[0m \u001b[0;34m=\u001b[0m \u001b[0;32mlambda\u001b[0m\u001b[0;34m:\u001b[0m \u001b[0mload_ase\u001b[0m\u001b[0;34m(\u001b[0m\u001b[0mfilelist\u001b[0m\u001b[0;34m,\u001b[0m \u001b[0msplits\u001b[0m\u001b[0;34m=\u001b[0m\u001b[0;34m{\u001b[0m\u001b[0;34m'train'\u001b[0m\u001b[0;34m:\u001b[0m\u001b[0;36m8\u001b[0m\u001b[0;34m,\u001b[0m \u001b[0;34m'test'\u001b[0m\u001b[0;34m:\u001b[0m\u001b[0;36m2\u001b[0m\u001b[0;34m}\u001b[0m\u001b[0;34m)\u001b[0m\u001b[0;34m\u001b[0m\u001b[0;34m\u001b[0m\u001b[0m\n\u001b[0m\u001b[1;32m      8\u001b[0m \u001b[0mtrain\u001b[0m \u001b[0;34m=\u001b[0m \u001b[0;32mlambda\u001b[0m\u001b[0;34m:\u001b[0m \u001b[0mdataset\u001b[0m\u001b[0;34m(\u001b[0m\u001b[0;34m)\u001b[0m\u001b[0;34m[\u001b[0m\u001b[0;34m'train'\u001b[0m\u001b[0;34m]\u001b[0m\u001b[0;34m.\u001b[0m\u001b[0mrepeat\u001b[0m\u001b[0;34m(\u001b[0m\u001b[0;34m)\u001b[0m\u001b[0;34m.\u001b[0m\u001b[0mshuffle\u001b[0m\u001b[0;34m(\u001b[0m\u001b[0;36m1000\u001b[0m\u001b[0;34m)\u001b[0m\u001b[0;34m.\u001b[0m\u001b[0mapply\u001b[0m\u001b[0;34m(\u001b[0m\u001b[0msparse_batch\u001b[0m\u001b[0;34m(\u001b[0m\u001b[0;36m1\u001b[0m\u001b[0;34m)\u001b[0m\u001b[0;34m)\u001b[0m\u001b[0;34m\u001b[0m\u001b[0;34m\u001b[0m\u001b[0m\n\u001b[1;32m      9\u001b[0m \u001b[0mtest\u001b[0m \u001b[0;34m=\u001b[0m \u001b[0;32mlambda\u001b[0m\u001b[0;34m:\u001b[0m \u001b[0mdataset\u001b[0m\u001b[0;34m(\u001b[0m\u001b[0;34m)\u001b[0m\u001b[0;34m[\u001b[0m\u001b[0;34m'test'\u001b[0m\u001b[0;34m]\u001b[0m\u001b[0;34m.\u001b[0m\u001b[0mapply\u001b[0m\u001b[0;34m(\u001b[0m\u001b[0msparse_batch\u001b[0m\u001b[0;34m(\u001b[0m\u001b[0;36m1\u001b[0m\u001b[0;34m)\u001b[0m\u001b[0;34m)\u001b[0m\u001b[0;34m\u001b[0m\u001b[0;34m\u001b[0m\u001b[0m\n",
      "\u001b[0;32m~/.local/lib/python3.9/site-packages/pinn/io/ase.py\u001b[0m in \u001b[0;36mload_ase\u001b[0;34m(dataset, splits, shuffle, seed)\u001b[0m\n\u001b[1;32m     51\u001b[0m \u001b[0;34m\u001b[0m\u001b[0m\n\u001b[1;32m     52\u001b[0m     \u001b[0;32mif\u001b[0m \u001b[0misinstance\u001b[0m\u001b[0;34m(\u001b[0m\u001b[0mdataset\u001b[0m\u001b[0;34m,\u001b[0m \u001b[0mstr\u001b[0m\u001b[0;34m)\u001b[0m\u001b[0;34m:\u001b[0m\u001b[0;34m\u001b[0m\u001b[0;34m\u001b[0m\u001b[0m\n\u001b[0;32m---> 53\u001b[0;31m         \u001b[0mdataset\u001b[0m \u001b[0;34m=\u001b[0m \u001b[0mread\u001b[0m\u001b[0;34m(\u001b[0m\u001b[0mdataset\u001b[0m\u001b[0;34m,\u001b[0m \u001b[0mindex\u001b[0m\u001b[0;34m=\u001b[0m\u001b[0;34m':'\u001b[0m\u001b[0;34m)\u001b[0m\u001b[0;34m\u001b[0m\u001b[0;34m\u001b[0m\u001b[0m\n\u001b[0m\u001b[1;32m     54\u001b[0m \u001b[0;34m\u001b[0m\u001b[0m\n\u001b[1;32m     55\u001b[0m     \u001b[0mds_spec\u001b[0m \u001b[0;34m=\u001b[0m \u001b[0m_ase_spec\u001b[0m\u001b[0;34m(\u001b[0m\u001b[0mdataset\u001b[0m\u001b[0;34m[\u001b[0m\u001b[0;36m0\u001b[0m\u001b[0;34m]\u001b[0m\u001b[0;34m)\u001b[0m\u001b[0;34m\u001b[0m\u001b[0;34m\u001b[0m\u001b[0m\n",
      "\u001b[0;32m~/miniconda3/envs/parautomatik/lib/python3.9/site-packages/ase/io/formats.py\u001b[0m in \u001b[0;36mread\u001b[0;34m(filename, index, format, parallel, do_not_split_by_at_sign, **kwargs)\u001b[0m\n\u001b[1;32m    727\u001b[0m     \u001b[0;32mif\u001b[0m \u001b[0mindex\u001b[0m \u001b[0;32mis\u001b[0m \u001b[0;32mNone\u001b[0m\u001b[0;34m:\u001b[0m\u001b[0;34m\u001b[0m\u001b[0;34m\u001b[0m\u001b[0m\n\u001b[1;32m    728\u001b[0m         \u001b[0mindex\u001b[0m \u001b[0;34m=\u001b[0m \u001b[0;34m-\u001b[0m\u001b[0;36m1\u001b[0m\u001b[0;34m\u001b[0m\u001b[0;34m\u001b[0m\u001b[0m\n\u001b[0;32m--> 729\u001b[0;31m     \u001b[0mformat\u001b[0m \u001b[0;34m=\u001b[0m \u001b[0mformat\u001b[0m \u001b[0;32mor\u001b[0m \u001b[0mfiletype\u001b[0m\u001b[0;34m(\u001b[0m\u001b[0mfilename\u001b[0m\u001b[0;34m,\u001b[0m \u001b[0mread\u001b[0m\u001b[0;34m=\u001b[0m\u001b[0misinstance\u001b[0m\u001b[0;34m(\u001b[0m\u001b[0mfilename\u001b[0m\u001b[0;34m,\u001b[0m \u001b[0mstr\u001b[0m\u001b[0;34m)\u001b[0m\u001b[0;34m)\u001b[0m\u001b[0;34m\u001b[0m\u001b[0;34m\u001b[0m\u001b[0m\n\u001b[0m\u001b[1;32m    730\u001b[0m \u001b[0;34m\u001b[0m\u001b[0m\n\u001b[1;32m    731\u001b[0m     \u001b[0mio\u001b[0m \u001b[0;34m=\u001b[0m \u001b[0mget_ioformat\u001b[0m\u001b[0;34m(\u001b[0m\u001b[0mformat\u001b[0m\u001b[0;34m)\u001b[0m\u001b[0;34m\u001b[0m\u001b[0;34m\u001b[0m\u001b[0m\n",
      "\u001b[0;32m~/miniconda3/envs/parautomatik/lib/python3.9/site-packages/ase/io/formats.py\u001b[0m in \u001b[0;36mfiletype\u001b[0;34m(filename, read, guess)\u001b[0m\n\u001b[1;32m    918\u001b[0m \u001b[0;34m\u001b[0m\u001b[0m\n\u001b[1;32m    919\u001b[0m         \u001b[0;32mif\u001b[0m \u001b[0morig_filename\u001b[0m \u001b[0;34m==\u001b[0m \u001b[0mfilename\u001b[0m\u001b[0;34m:\u001b[0m\u001b[0;34m\u001b[0m\u001b[0;34m\u001b[0m\u001b[0m\n\u001b[0;32m--> 920\u001b[0;31m             \u001b[0mfd\u001b[0m \u001b[0;34m=\u001b[0m \u001b[0mopen_with_compression\u001b[0m\u001b[0;34m(\u001b[0m\u001b[0mfilename\u001b[0m\u001b[0;34m,\u001b[0m \u001b[0;34m'rb'\u001b[0m\u001b[0;34m)\u001b[0m\u001b[0;34m\u001b[0m\u001b[0;34m\u001b[0m\u001b[0m\n\u001b[0m\u001b[1;32m    921\u001b[0m         \u001b[0;32melse\u001b[0m\u001b[0;34m:\u001b[0m\u001b[0;34m\u001b[0m\u001b[0;34m\u001b[0m\u001b[0m\n\u001b[1;32m    922\u001b[0m             \u001b[0mfd\u001b[0m \u001b[0;34m=\u001b[0m \u001b[0morig_filename\u001b[0m  \u001b[0;31m# type: ignore\u001b[0m\u001b[0;34m\u001b[0m\u001b[0;34m\u001b[0m\u001b[0m\n",
      "\u001b[0;32m~/miniconda3/envs/parautomatik/lib/python3.9/site-packages/ase/io/formats.py\u001b[0m in \u001b[0;36mopen_with_compression\u001b[0;34m(filename, mode)\u001b[0m\n\u001b[1;32m    549\u001b[0m     \u001b[0;32melse\u001b[0m\u001b[0;34m:\u001b[0m\u001b[0;34m\u001b[0m\u001b[0;34m\u001b[0m\u001b[0m\n\u001b[1;32m    550\u001b[0m         \u001b[0;31m# Either None or unknown string\u001b[0m\u001b[0;34m\u001b[0m\u001b[0;34m\u001b[0m\u001b[0m\n\u001b[0;32m--> 551\u001b[0;31m         \u001b[0;32mreturn\u001b[0m \u001b[0mopen\u001b[0m\u001b[0;34m(\u001b[0m\u001b[0mfilename\u001b[0m\u001b[0;34m,\u001b[0m \u001b[0mmode\u001b[0m\u001b[0;34m)\u001b[0m\u001b[0;34m\u001b[0m\u001b[0;34m\u001b[0m\u001b[0m\n\u001b[0m\u001b[1;32m    552\u001b[0m \u001b[0;34m\u001b[0m\u001b[0m\n\u001b[1;32m    553\u001b[0m \u001b[0;34m\u001b[0m\u001b[0m\n",
      "\u001b[0;31mFileNotFoundError\u001b[0m: [Errno 2] No such file or directory: 'trainset.xyz'"
     ]
    }
   ],
   "source": [
    "from ase.visualize import view\n",
    "atoms = get_struct(ds, stm)\n",
    "\n",
    "\n",
    "view(atoms)"
   ]
  }
 ],
 "metadata": {
  "kernelspec": {
   "display_name": "Python 3",
   "language": "python",
   "name": "python3"
  },
  "language_info": {
   "codemirror_mode": {
    "name": "ipython",
    "version": 3
   },
   "file_extension": ".py",
   "mimetype": "text/x-python",
   "name": "python",
   "nbconvert_exporter": "python",
   "pygments_lexer": "ipython3",
   "version": "3.9.7"
  }
 },
 "nbformat": 4,
 "nbformat_minor": 5
}
