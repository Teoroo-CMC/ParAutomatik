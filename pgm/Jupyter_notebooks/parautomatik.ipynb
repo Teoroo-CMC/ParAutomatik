{
 "cells": [
  {
   "cell_type": "markdown",
   "id": "1bffe03f-153e-4384-9503-77d35b20ac28",
   "metadata": {
    "jp-MarkdownHeadingCollapsed": true,
    "tags": []
   },
   "source": [
    "# **ParAutomatik** \n",
    "\n",
    "*ParAutomatik* provides recipies for autimatic generation of models for the simulations of ecletronic and atomistic structures based on density functional theory data. The recipies are provided in the form of a set of Jupyter notebooks that automatize the generation of the various combination of models. \n",
    "\n",
    "Table of Contents\n",
    "- [Recipie: SCC-DFTB+CCS+PiNN](#recipie-scc-dftbccspinn)\n",
    "- [Recipie: SCC-DFTB+CCS]()\n",
    "- [Recipie: SCC-PiNN]()\n",
    "- [Recipie: CCS]()\n",
    "- [Recipie: CCS+Q]()\n",
    "- [Recipie: CCS+PiNN]()\n",
    " \n",
    "### **Recipie: SCC-DFTB+CCS+PiNN**\n",
    "\n",
    "The SCC-DFTB+CCS+PiNN model is generated stepwise producing Slater-Koster files and additional pair-wise and ML corrected repulsive (and other) contribusions from a given training set in the form of enerigies and forces for an arbitrary set of atomistic configurations. In the final notebook, examples how to run atomistic simulations within the Atomic Simulation Envornment (ASE) [1] is given.   \n",
    "\n",
    "#### **1.**  Create (or download) an ASE database including coordinates, energy (and forces). \n",
    "\n",
    "#### **2.** Generate optimal SK-tables  \n",
    "\n",
    "#### &nbsp;&nbsp;&nbsp;&nbsp; **A.** Launch [gen_SK.ipynb](./gen_SK.ipynb)  \n",
    "     \n",
    "&nbsp;&nbsp;&nbsp;&nbsp; This notebook uses the skprogs [2] software to generate the Slater-Koster tables for each element found in the database.  \n",
    "\n",
    "#### &nbsp;&nbsp;&nbsp;&nbsp; **B.** Analysis of model quality: electronic properties. Check: \n",
    "\n",
    " - HOMO-LUMO gaps \n",
    " - DOS for solids\n",
    " - Ionization energy\n",
    " - Electron affinity \n",
    "\n",
    "\n",
    "#### **3. Add Repulsive**\n",
    "\n",
    "####  &nbsp;&nbsp;&nbsp;&nbsp; **A.** Launch [trainingset.ipynb](./trainingset.ipynb)\n",
    "     \n",
    "&nbsp;&nbsp;&nbsp;&nbsp; This notebook computes the electron energies and associated forces using the coordinates in the DFT database. The output is a new ASE database with DFTB electronic energies and forces. \n",
    " \n",
    "#### &nbsp;&nbsp;&nbsp;&nbsp; **B.** Launch [gen_ccs.ipynb](./gen_ccs.ipynb) \n",
    "    \n",
    "&nbsp;&nbsp;&nbsp;&nbsp; This notebook uses the CCS software [3] to generate pariwise repulsive potentials for each pair using Chemically Constrained Splines method [4]. \n",
    "      \n",
    "#### &nbsp;&nbsp;&nbsp;&nbsp; **C.** Launch [gen_PiNN.ipynb](./gen_PiNN.ipynb)\n",
    "&nbsp;&nbsp;&nbsp;&nbsp; This notebook uses the PiNN software suite [5] to generate a ML potential to enhance the accuracy of the SCC-DFTB calculations. \n",
    "\n",
    "#### &nbsp;&nbsp;&nbsp;&nbsp; **D.** Analysis of Model Quality. Launch [Model_analysis.ipynb](./Model_analysis.ipynb) \n",
    "\n",
    "#### **4.** Launch [run_sim.ipynb](./run_sim.ipynb)\n",
    "\n",
    "This notebook demonstrates how to use the generated DFTB+CCS+PiNN model for atomistic simulations in ASE. \n",
    "\n",
    "- Geometry optimization \n",
    "- Molecular Dynamics \n",
    "- Transition state search   \n",
    "\n",
    "#### **References**\n",
    "<ol>\n",
    "<li> https://wiki.fysik.dtu.dk/ase/ </li>\n",
    "<li> https://github.com/dftbplus/skprogs </li>\n",
    "<li> https://github.com/Teoroo-CMC/CCS </li>\n",
    "<li> https://github.com/Teoroo-CMC/PiNN </li>\n",
    "</ol>"
   ]
  }
 ],
 "metadata": {
  "kernelspec": {
   "display_name": "Python 3",
   "language": "python",
   "name": "python3"
  },
  "language_info": {
   "codemirror_mode": {
    "name": "ipython",
    "version": 3
   },
   "file_extension": ".py",
   "mimetype": "text/x-python",
   "name": "python",
   "nbconvert_exporter": "python",
   "pygments_lexer": "ipython3",
   "version": "3.9.7"
  }
 },
 "nbformat": 4,
 "nbformat_minor": 5
}
