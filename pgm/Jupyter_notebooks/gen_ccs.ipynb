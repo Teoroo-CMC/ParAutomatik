{
 "cells": [
  {
   "cell_type": "markdown",
   "id": "12bdeec6-5a7e-4297-adbe-561776a86a73",
   "metadata": {
    "tags": []
   },
   "source": [
    "# SCC-DFTB repulsive potential generation (2-body)\n",
    "\n",
    "Input: DFT_DB.db DFTB_DB.db \n",
    "\n",
    "Output: CCS parameters to be used in conjunction with the SK-tables generated in gen_SK.ipynb and CCS_DB.db \n",
    "\n"
   ]
  },
  {
   "cell_type": "code",
   "execution_count": null,
   "id": "54fb709f",
   "metadata": {},
   "outputs": [],
   "source": [
    "PARAUTOMATIK_PATH='WRITE-Your-PATH-PARAUTOMATIK-Here'   # Add your installation path here"
   ]
  },
  {
   "cell_type": "code",
   "execution_count": null,
   "id": "17e15140-e377-4d8c-a1be-5662a0dd4173",
   "metadata": {},
   "outputs": [],
   "source": [
    "import os, sys, warnings\n",
    "sys.path.append(PARAUTOMATIK_PATH+'/pgm/CCS/')\n",
    "sys.path.append(PARAUTOMATIK_PATH+'/pgm/python_scripts')\n",
    "import json\n",
    "import itertools as it\n",
    "from collections import OrderedDict, defaultdict\n",
    "import numpy as np\n",
    "from ase import Atoms\n",
    "from ase import io\n",
    "from ase.calculators.neighborlist import NeighborList\n",
    "import ase.db as db\n",
    "from ccs.common.exceptions import ScriptError \n",
    "from ccs.fitting.main import twp_fit\n",
    "from ccs.ase_tools.ccs_ase_calculator import CCS\n",
    "from rep_parautomatik import pair_dist, generate_ccsdata, generate_ccsdb, write_input, fit_ccs\n",
    "base_dir=os.getcwd()\n",
    "os.chdir(base_dir)\n",
    "print('Base dir is:', base_dir)\n",
    "warnings.filterwarnings('ignore')\n"
   ]
  },
  {
   "cell_type": "code",
   "execution_count": null,
   "id": "f0d4af11-1086-4629-b38a-43d9996b5b5c",
   "metadata": {},
   "outputs": [],
   "source": [
    "#generate data generates trainingset in the format for CCS (structures.json)\n",
    "cwd = os.getcwd()\n",
    "if not os.path.isdir(cwd+\"/CCS/\"):\n",
    "    os.mkdir(cwd+\"/CCS/\")\n",
    "\n",
    "os.chdir(cwd+\"/CCS/\")\n",
    "DFTB_DB=db.connect(base_dir+\"/DFTB_DB.db\")   \n",
    "DFT_DB=db.connect(base_dir+\"/DFT_DB.db\")   \n",
    "generate_ccsdata(DFT_DB,DFTB_DB)\n",
    "os.chdir(base_dir) "
   ]
  },
  {
   "cell_type": "code",
   "execution_count": null,
   "id": "d9c2d9d6-d77b-464f-b8a3-c838d601ea89",
   "metadata": {
    "tags": []
   },
   "outputs": [],
   "source": [
    "#input for fitting data using CCS \n",
    "\n",
    "os.chdir(base_dir+'/CCS')            \n",
    "input = {\n",
    "\"Reference\":\"structures.json\",\n",
    "\"General\":{\n",
    "\t\"interface\":\"DFTB\",\n",
    "}\n",
    "}\n",
    "\n",
    "write_input(input)\n",
    "os.chdir(base_dir) "
   ]
  },
  {
   "cell_type": "code",
   "execution_count": null,
   "id": "2b55e526-623e-4323-ab27-b0acd56f7df0",
   "metadata": {},
   "outputs": [],
   "source": [
    "os.chdir(base_dir+\"/CCS/\")\n",
    "class Args:\n",
    "    cmdlineargs=None\n",
    "    input = 'input.json'\n",
    "\n",
    "args=Args()\n",
    "fit_ccs(args)\n",
    "os.chdir(base_dir) "
   ]
  },
  {
   "cell_type": "markdown",
   "id": "2696253c-8f8d-4802-aad0-453ea71fd274",
   "metadata": {},
   "source": [
    "# Analysis\n",
    "![title](CCS/CCS_fitting_summary.png)"
   ]
  },
  {
   "cell_type": "code",
   "execution_count": 7,
   "id": "eeddde97-0c9d-47d7-9a24-fd072ed75a25",
   "metadata": {
    "tags": []
   },
   "outputs": [],
   "source": [
    "os.chdir(base_dir)\n",
    "\n",
    "struct=db.connect(\"DFTB_DB.db\")\n",
    "db_ccs=db.connect(\"CCS_DB.db\")\n",
    "\n",
    "os.chdir(base_dir+\"/CCS/\")\n",
    "with open('CCS_params.json', 'r') as f:\n",
    "    CCS_params = json.load(f)\n",
    "\n",
    "for row in struct.select():  \n",
    "    structure=row.toatoms()\n",
    "    structure.calc=CCS(CCS_params=CCS_params)\n",
    "    structure.get_potential_energy()\n",
    "    structure.get_forces()\n",
    "    db_ccs.write(structure,key=row.key,CCS=True)\n",
    "\n",
    "os.chdir(base_dir)"
   ]
  }
 ],
 "metadata": {
  "kernelspec": {
   "display_name": "Python 3",
   "language": "python",
   "name": "python3"
  },
  "language_info": {
   "codemirror_mode": {
    "name": "ipython",
    "version": 3
   },
   "file_extension": ".py",
   "mimetype": "text/x-python",
   "name": "python",
   "nbconvert_exporter": "python",
   "pygments_lexer": "ipython3",
   "version": "3.9.7"
  }
 },
 "nbformat": 4,
 "nbformat_minor": 5
}
