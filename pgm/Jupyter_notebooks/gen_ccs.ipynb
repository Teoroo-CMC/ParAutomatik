{
 "cells": [
  {
   "cell_type": "markdown",
   "id": "12bdeec6-5a7e-4297-adbe-561776a86a73",
   "metadata": {
    "tags": []
   },
   "source": [
    "# SCC-DFTB repulsive potential generation (2-body)\n",
    "\n",
    "Input: DFT_DB.db DFTB_DB.db \n",
    "\n",
    "Output: CCS parameters to be used in conjunction with the SK-tables generated in gen_SK.ipynb and CCS_DB.db \n",
    "\n"
   ]
  },
  {
   "cell_type": "code",
   "execution_count": null,
   "id": "54fb709f",
   "metadata": {},
   "outputs": [],
   "source": [
    "PARAUTOMATIK_PATH='WRITE-Your-PATH-PARAUTOMATIK-Here'   # Add your installation path here"
   ]
  },
  {
   "cell_type": "code",
   "execution_count": null,
   "id": "17e15140-e377-4d8c-a1be-5662a0dd4173",
   "metadata": {},
   "outputs": [],
   "source": [
    "import os, sys, warnings\n",
    "sys.path.append(PARAUTOMATIK_PATH+'/pgm/CCS/')\n",
    "sys.path.append(PARAUTOMATIK_PATH+'/pgm/python_scripts')\n",
    "import json\n",
    "import itertools as it\n",
    "from collections import OrderedDict, defaultdict\n",
    "import numpy as np\n",
    "from ase import Atoms\n",
    "from ase import io\n",
    "from ase.calculators.neighborlist import NeighborList\n",
    "import ase.db as db\n",
    "from tqdm import tqdm \n",
    "from ccs.scripts.ccs_fetch import ccs_fetch as ccs_fetch\n",
    "from ccs.fitting.main import twp_fit as ccs_fit\n",
    "\n",
    "from ccs.common.exceptions import ScriptError \n",
    "from ccs.ase_caclulator.ccs_ase_calculator import CCS\n",
    "\n",
    "import matplotlib.pyplot as plt\n",
    "import seaborn as sns\n",
    "\n",
    "\n",
    "base_dir=os.getcwd()\n",
    "os.chdir(base_dir)\n",
    "print('Base dir is:', base_dir)\n",
    "warnings.filterwarnings('ignore')\n"
   ]
  },
  {
   "cell_type": "code",
   "execution_count": null,
   "id": "f0d4af11-1086-4629-b38a-43d9996b5b5c",
   "metadata": {},
   "outputs": [],
   "source": [
    "#generate data generates trainingset in the format for CCS (structures.json)\n",
    "cwd = os.getcwd()\n",
    "if not os.path.isdir(cwd+\"/CCS/\"):\n",
    "    os.mkdir(cwd+\"/CCS/\")\n",
    "os.chdir(cwd+\"/CCS/\")\n",
    "\n",
    "\n",
    "ccs_fetch(mode='DFTB', R_c=6.0, Ns='all', DFT_DB='../DFT_DB.db', DFTB_DB='../DFTB_DB.db')\n",
    "\n",
    "os.chdir(base_dir) "
   ]
  },
  {
   "cell_type": "code",
   "execution_count": null,
   "id": "d9c2d9d6-d77b-464f-b8a3-c838d601ea89",
   "metadata": {
    "tags": []
   },
   "outputs": [],
   "source": [
    "#DEFINE INPUT\n",
    "os.chdir(cwd+\"/CCS/\")\n",
    "\n",
    "input={\n",
    "    \"General\": {\n",
    "        \"interface\": \"DFTB\"\n",
    "    },\n",
    "    \"Twobody\": {\n",
    "        \"C-O\": {\n",
    "            \"Rcut\": 6.0,\n",
    "            \"Resolution\": 0.05,\n",
    "            \"Swtype\": \"rep\"\n",
    "               }\n",
    "    }\n",
    "}\n",
    "#SAVE TO FILE\n",
    "with open('input.json', 'w') as f:\n",
    "    json.dump(input, f, indent=8)\n",
    "    \n",
    "#RUN FIT\n",
    "ccs_fit(\"input.json\")\n",
    "os.chdir(base_dir)"
   ]
  },
  {
   "cell_type": "code",
   "execution_count": null,
   "id": "2b55e526-623e-4323-ab27-b0acd56f7df0",
   "metadata": {},
   "outputs": [],
   "source": [
    "os.chdir(base_dir+\"/CCS/\")\n",
    "class Args:\n",
    "    cmdlineargs=None\n",
    "    input = 'input.json'\n",
    "\n",
    "args=Args()\n",
    "fit_ccs(args)\n",
    "os.chdir(base_dir) "
   ]
  },
  {
   "cell_type": "markdown",
   "id": "2696253c-8f8d-4802-aad0-453ea71fd274",
   "metadata": {},
   "source": [
    "# Analysis"
   ]
  },
  {
   "cell_type": "code",
   "execution_count": 7,
   "id": "eeddde97-0c9d-47d7-9a24-fd072ed75a25",
   "metadata": {
    "tags": []
   },
   "outputs": [],
   "source": [
    "os.chdir(base_dir)\n",
    "\n",
    "struct=db.connect(\"DFTB_DB.db\")\n",
    "db_ccs=db.connect(\"CCS_DB.db\")\n",
    "\n",
    "os.chdir(base_dir+\"/CCS/\")\n",
    "with open('CCS_params.json', 'r') as f:\n",
    "    CCS_params = json.load(f)\n",
    "\n",
    "for row in tqdm(struct.select(), total=len(struct)):  \n",
    "    structure=row.toatoms()\n",
    "    structure.calc=CCS(CCS_params=CCS_params)\n",
    "    structure.get_potential_energy()\n",
    "    structure.get_forces()\n",
    "    db_ccs.write(structure,key=row.key,CCS=True)\n",
    "\n",
    "os.chdir(base_dir)"
   ]
  },
  {
   "cell_type": "code",
   "execution_count": null,
   "id": "c66f6b36",
   "metadata": {},
   "outputs": [],
   "source": [
    "#Read Data\n",
    "import matplotlib.pyplot as plt\n",
    "import seaborn as sns\n",
    "dbname_DFT='DFT_DB.db'\n",
    "dbname_DFTB='DFTB_DB.db'\n",
    "dbname_CCS='CCS_DB.db'\n",
    "db_dftb=db.connect(dbname_DFTB)\n",
    "db_ccs=db.connect(dbname_CCS)\n",
    "db_dft=db.connect(dbname_DFT)\n",
    "epred=[];edft=[];edftb=[];eccs=[];\n",
    "for row in tqdm(db_dftb.select(), total=len(db_dftb)):\n",
    "    structure=row.toatoms()\n",
    "    natoms=len(structure.get_atomic_numbers())\n",
    "    id=str(row.key)\n",
    "    edftb.append(db_dftb.get('key='+id).energy/natoms)\n",
    "    eccs.append(db_ccs.get('key='+id).energy/natoms)\n",
    "    edft.append(db_dft.get('key='+id).energy/natoms) \n",
    "    edftb_css.append(db_dftb.get('key='+id).energy/natoms + db_ccs.get('key='+id).energy/natoms)\n"
   ]
  },
  {
   "cell_type": "code",
   "execution_count": null,
   "id": "4d2b87b1",
   "metadata": {},
   "outputs": [],
   "source": [
    "#plot Energies\n",
    "plt.figure(figsize = (10,10))\n",
    "sns.scatterplot(edft, edftb_ccs, s=50, alpha=0.8, color='r')\n",
    "\n",
    "plt.plot([np.min(edft),np.max(edft)], [np.min(edft),np.max(edft)], 'k-', lw=2.5)\n",
    "plt.legend(labels=[\"DFTB+CCS\"], fontsize=30 )\n",
    "plt.xlabel('E$_{DFT}$/atom (eV)',fontsize=30)\n",
    "plt.ylabel('E$_{DFTB+CCS}$',fontsize=30)\n",
    "plt.xlim(np.min(edft),np.max(edft))\n",
    "plt.ylim(np.min(edft),np.max(edft))\n",
    "plt.savefig('DFTvsDFTB+CCS.png')\n",
    "plt.show()\n"
   ]
  }
 ],
 "metadata": {
  "kernelspec": {
   "display_name": "Python 3",
   "language": "python",
   "name": "python3"
  },
  "language_info": {
   "codemirror_mode": {
    "name": "ipython",
    "version": 3
   },
   "file_extension": ".py",
   "mimetype": "text/x-python",
   "name": "python",
   "nbconvert_exporter": "python",
   "pygments_lexer": "ipython3",
   "version": "3.9.7"
  }
 },
 "nbformat": 4,
 "nbformat_minor": 5
}
