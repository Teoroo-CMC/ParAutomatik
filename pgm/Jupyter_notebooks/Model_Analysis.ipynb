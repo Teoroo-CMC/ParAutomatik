{
 "cells": [
  {
   "cell_type": "markdown",
   "id": "80ba06b7",
   "metadata": {},
   "source": [
    "# Model analysis and tests\n",
    "\n",
    "Input:DFT_DB, DFTB_DB.db, CCS_DB.db and PiNN_DB.db - ASE databasse with coordinates, energies and forces for all levels.\n",
    "\n",
    "Output: Correlation plots showing DFT vs model data. "
   ]
  },
  {
   "cell_type": "code",
   "execution_count": null,
   "id": "ebbfab67",
   "metadata": {},
   "outputs": [],
   "source": [
    "PARAUTOMATIK_PATH='WRITE-Your-PATH-PARAUTOMATIK-Here'   # Add your installation path here"
   ]
  },
  {
   "cell_type": "code",
   "execution_count": 3,
   "id": "1a435ba6-d0c5-4662-91cd-f8280a13f7a7",
   "metadata": {},
   "outputs": [],
   "source": [
    "import os \n",
    "import sys\n",
    "from ase import Atoms\n",
    "from ase import io\n",
    "from ase.io import read, write\n",
    "import ase.db as db\n",
    "import numpy as np\n",
    "import matplotlib.pyplot as plt\n",
    "import seaborn as sns\n",
    "from tqdm.notebook import tnrange, tqdm\n",
    "base_dir=os.getcwd()\n",
    "os.chdir(base_dir)\n",
    "if not os.path.isdir(base_dir+\"/ModelAnalysis\"):\n",
    "    os.mkdir(base_dir+\"/ModelAnalysis/\")"
   ]
  },
  {
   "cell_type": "code",
   "execution_count": null,
   "id": "58989637-a272-4c59-8902-ba91c1a99894",
   "metadata": {},
   "outputs": [],
   "source": [
    "#Read Data\n",
    "dbname_DFT='DFT_DB.db'\n",
    "dbname_DFTB='DFTB_DB.db'\n",
    "dbname_CCS='CCS_DB.db'\n",
    "dbname_PiNN='PiNN_DB.db'\n",
    "db_dftb=db.connect(dbname_DFTB)\n",
    "db_ccs=db.connect(dbname_CCS)\n",
    "db_dft=db.connect(dbname_DFT)\n",
    "db_pinn=db.connect(dbname_PiNN)\n",
    "epred=[];edft=[];edftb=[];epinn=[];eccs=[];ecpinn=[]\n",
    "for row in tqdm(db_dftb.select()):\n",
    "    structure=row.toatoms()\n",
    "    natoms=len(structure.get_atomic_numbers())\n",
    "    id=str(row.id)\n",
    "    epinn.append(db_pinn.get('id='+id).energy/natoms)\n",
    "    edftb.append(db_dftb.get('id='+id).energy/natoms)\n",
    "    eccs.append(db_ccs.get('id='+id).energy/natoms)\n",
    "    edft.append(db_dft.get('id='+id).energy/natoms)       "
   ]
  },
  {
   "cell_type": "code",
   "execution_count": null,
   "id": "cf03ef04",
   "metadata": {},
   "outputs": [],
   "source": [
    "edftb_ccs=[];\n",
    "for i in range(0,len(edftb)):\n",
    "    edftb_ccs.append(edftb[i]+eccs[i])\n",
    "\n",
    "edftb_ccs_pinn=[];\n",
    "for i in range(0,len(epinn)):\n",
    "    edftb_ccs_pinn.append(edftb[i]+eccs[i]+epinn[i])\n",
    "os.chdir(base_dir)   "
   ]
  },
  {
   "cell_type": "code",
   "execution_count": null,
   "id": "9bc77fdf",
   "metadata": {},
   "outputs": [],
   "source": [
    "#plot Energies \n",
    "plt.figure(figsize = (10,10))\n",
    "sns.scatterplot(edft, edftb_ccs, s=50, alpha=0.8, color='r')\n",
    "sns.scatterplot(edft, edftb_ccs_pinn, s=50, alpha=0.3,color='g')\n",
    "\n",
    "plt.plot([np.min(edft),np.max(edft)], [np.min(edft),np.max(edft)], 'k-', lw=2.5)\n",
    "plt.legend(labels=[\"DFTB+CCS\",\"DFTB+CCS+PiNN\"], fontsize=30 )\n",
    "plt.xlabel('E$_{DFT}$/atom (eV)',fontsize=30)\n",
    "plt.ylabel('E$_{model}$',fontsize=30)\n",
    "plt.xlim(np.min(edft),np.max(edft))\n",
    "plt.ylim(np.min(edft),np.max(edft))\n",
    "plt.savefig('DFTvsModels.png')\n",
    "plt.show()\n"
   ]
  }
 ],
 "metadata": {
  "kernelspec": {
   "display_name": "Python 3",
   "language": "python",
   "name": "python3"
  },
  "language_info": {
   "codemirror_mode": {
    "name": "ipython",
    "version": 3
   },
   "file_extension": ".py",
   "mimetype": "text/x-python",
   "name": "python",
   "nbconvert_exporter": "python",
   "pygments_lexer": "ipython3",
   "version": "3.9.7"
  }
 },
 "nbformat": 4,
 "nbformat_minor": 5
}
