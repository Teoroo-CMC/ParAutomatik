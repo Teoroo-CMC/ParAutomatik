{
 "cells": [
  {
   "cell_type": "markdown",
   "id": "51683fcd-dc39-4391-af09-1897bc73615c",
   "metadata": {},
   "source": [
    "# Uses the PiNN model to generate a repulsive potential\n",
    "\n",
    "Adds in the calcualtion to \n",
    "\n",
    "E_tot = E_DFTB + E_CCS + E_PiNN + ..."
   ]
  },
  {
   "cell_type": "code",
   "execution_count": 2,
   "id": "4308a496-78e9-4779-b76d-95d9b85d988c",
   "metadata": {},
   "outputs": [
    {
     "name": "stdout",
     "output_type": "stream",
     "text": [
      "You are here: /home/broqvist/Desktop/parautomatik/Electrolyte\n"
     ]
    }
   ],
   "source": [
    "import os, warnings\n",
    "import tensorflow as tf\n",
    "from glob import glob\n",
    "from collections import OrderedDict, defaultdict\n",
    "from ase.collections import g2\n",
    "import pinn\n",
    "from pinn.io import load_ase, sparse_batch\n",
    "#from pinn.models import potential_model\n",
    "#from pinn.calculator import PiNN_calc\n",
    "import warnings\n",
    "warnings.filterwarnings('ignore')\n",
    "# CPU is used for documentation generation, feel free to use your GPU!\n",
    "os.environ['CUDA_VISIBLE_DEVICES'] = ''\n",
    "import ase.db\n",
    "base_dir=os.getcwd()\n",
    "os.chdir(base_dir)\n",
    "print('You are here:', base_dir)\n",
    "\n",
    "# We heavily use indexed slices to do sparse summations,\n",
    "# which causes tensorflow to complain,\n",
    "# we believe it's safe to ignore this warning.\n",
    "index_warning = 'Converting sparse IndexedSlices'\n",
    "warnings.filterwarnings('ignore', index_warning)"
   ]
  },
  {
   "cell_type": "code",
   "execution_count": 11,
   "id": "9acb7238-c3a3-47c7-a699-d3a42adfb7cb",
   "metadata": {},
   "outputs": [],
   "source": [
    "def generate_data(DFT_DB, DFTB_DB, CCS_DB): \n",
    "    cwd = os.getcwd()\n",
    "    if not os.path.isdir(cwd+\"/PiNN/\"):\n",
    "        os.mkdir(cwd+\"/PiNN/\")\n",
    "\n",
    "    os.chdir(cwd+\"/PiNN/\")\n",
    "    f=open('trainset.xyz', 'a')\n",
    "    r=open('erep.dat', 'a')\n",
    "    fu=open('trainset_udftb.xyz', 'a')\n",
    "    ru=open('erep_udftb.dat', 'a')\n",
    "\n",
    "    for row in DFTB_DB.select():\n",
    "        structure = row.toatoms()\n",
    "        id=str(row.key)\n",
    "        EDFTB=row.energy\n",
    "        FDFTB=row.forces\n",
    "        EDFT=DFT_DB.get('key='+id).energy\n",
    "        FDFT=DFT_DB.get('key='+id).forces\n",
    "        ECCS=CCS_DB.get('key='+id).energy\n",
    "        FCCS=CCS_DB.get('key='+id).forces\n",
    "        Erep=EDFT-EDFTB-ECCS\n",
    "        Frep=FDFT-FDFTB-FCCS\n",
    "        r.write(str(Erep)+'\\n')       \n",
    "        ru.write(str(EDFT)+'\\n')\n",
    "        lattice=structure.get_cell()\n",
    "        f.write(''+str(structure.get_global_number_of_atoms())+'\\n')\n",
    "        f.write('Lattice=\"'+str(lattice[0,0])+' '+str(lattice[0,1])+' '+str(lattice[0,2])+' '+str(lattice[1,0])+' '+str(lattice[1,1])+' '+str(lattice[1,2])+' '+str(lattice[2,0])+' '+str(lattice[2,1])+' '+str(lattice[2,2])+'\" Properties=species:S:1:pos:R:3:forces:R:3 energy='+str(Erep)+' stress=\"0.0 0.0 0.0 0.0 0.0 0.0 0.0 0.0 0.0\" pbc=\"T T T\"\\n')        \n",
    "        fu.write(''+str(structure.get_global_number_of_atoms())+'\\n')\t\n",
    "        fu.write('Lattice=\"'+str(lattice[0,0])+' '+str(lattice[0,1])+' '+str(lattice[0,2])+' '+str(lattice[1,0])+' '+str(lattice[1,1])+' '+str(lattice[1,2])+' '+str(lattice[2,0])+' '+str(lattice[2,1])+' '+str(lattice[2,2])+'\" Properties=species:S:1:pos:R:3:forces:R:3 energy='+str(EDFT)+' stress=\"0.0 0.0 0.0 0.0 0.0 0.0 0.0 0.0 0.0\" pbc=\"T T T\"\\n')\n",
    "        for i in range(structure.get_global_number_of_atoms()):\n",
    "            position=structure.positions[i]\n",
    "            fpos=Frep[i]\n",
    "            f.write(''+str(structure.get_chemical_symbols()[i])+'   '+str(position[0])+' '+str(position[1])+' '+str(position[2])+'    '+str(fpos[0])+' '+str(fpos[1])+' '+str(fpos[2])+'\\n')\n",
    "            position=structure.positions[i]\n",
    "            fpos=FDFT[i]\n",
    "            fu.write(''+str(structure.get_chemical_symbols()[i])+'   '+str(position[0])+' '+str(position[1])+' '+str(position[2])+'    '+str(fpos[0])+' '+str(fpos[1])+' '+str(fpos[2])+'\\n')\n",
    "            \n",
    "\n",
    "            "
   ]
  },
  {
   "cell_type": "markdown",
   "id": "6b6e62f7-7187-4366-9b77-19d83c6feb1f",
   "metadata": {},
   "source": [
    "def generate_data(DFT_DB, DFTB_DB, CCS_DB): \n",
    "    cwd = os.getcwd()\n",
    "    if not os.path.isdir(cwd+\"/PiNN/\"):\n",
    "        os.mkdir(cwd+\"/PiNN/\")\n",
    "\n",
    "    os.chdir(cwd+\"/PiNN/\")\n",
    "    dataset=OrderedDict()\n",
    "    print(len(DFTB_DB))\n",
    "    for row in DFTB_DB.select():\n",
    "        structure = row.toatoms()\n",
    "        id=str(row.key)\n",
    "        EDFTB=row.energy\n",
    "        FDFTB=row.forces\n",
    "        EDFT=DFT_DB.get('key='+id).energy\n",
    "        FDFT=DFT_DB.get('key='+id).forces\n",
    "        ECCS=CCS_DB.get('key='+id).energy\n",
    "        FCCS=CCS_DB.get('key='+id).forces\n",
    "        Erep=EDFT-EDFTB-ECCS\n",
    "        Frep=FDFT-FDFTB-FCCS\n",
    "        dataset[id] = load_data(structure,Erep, Frep)     \n",
    "    return dataset\n",
    "\n",
    "keys = ...\n",
    "def load_key(key, DB1, DB2, DB3):\n",
    "     return\n",
    "\n",
    "\n",
    "def load_data(atoms, Erep, Frep): \n",
    "    data = {'elems': atoms.numbers,\n",
    "            'coord': atoms.positions,\n",
    "            'cell': atoms.cell,\n",
    "            'f_data': Frep,\n",
    "            'e_data': Erep}\n",
    "    return data"
   ]
  },
  {
   "cell_type": "markdown",
   "id": "a7adc526-c6ce-404a-9028-dc2216e33925",
   "metadata": {},
   "source": [
    "# Generate the dataset \n",
    "Here we use the newly generated ase databases (DFTB_DB and CCS_DB) together with the original DFT_DB to create the training set for the training of the machine learning potential. The outpout of this step is \n",
    "\n",
    "- trainset.xyz\n",
    "- erep.dat\n",
    "- trainset_urep.xyz\n",
    "- erep_udftb.dat\n",
    "\n",
    "Here we use a 80:20 test set. "
   ]
  },
  {
   "cell_type": "code",
   "execution_count": 3,
   "id": "40dd1496-3a4a-4bb0-8d7a-f0fe4b3db318",
   "metadata": {},
   "outputs": [
    {
     "name": "stdout",
     "output_type": "stream",
     "text": [
      "/home/broqvist/Desktop/parautomatik/Electrolyte\n"
     ]
    },
    {
     "ename": "NameError",
     "evalue": "name 'generate_data' is not defined",
     "output_type": "error",
     "traceback": [
      "\u001b[0;31m---------------------------------------------------------------------------\u001b[0m",
      "\u001b[0;31mNameError\u001b[0m                                 Traceback (most recent call last)",
      "\u001b[0;32m/tmp/ipykernel_20905/3319429548.py\u001b[0m in \u001b[0;36m<module>\u001b[0;34m\u001b[0m\n\u001b[1;32m      7\u001b[0m \u001b[0mdb_dftb\u001b[0m\u001b[0;34m=\u001b[0m\u001b[0mase\u001b[0m\u001b[0;34m.\u001b[0m\u001b[0mdb\u001b[0m\u001b[0;34m.\u001b[0m\u001b[0mconnect\u001b[0m\u001b[0;34m(\u001b[0m\u001b[0;34m\"DFTB_DB.db\"\u001b[0m\u001b[0;34m)\u001b[0m   \u001b[0;31m# DFTB database\u001b[0m\u001b[0;34m\u001b[0m\u001b[0;34m\u001b[0m\u001b[0m\n\u001b[1;32m      8\u001b[0m \u001b[0;34m\u001b[0m\u001b[0m\n\u001b[0;32m----> 9\u001b[0;31m \u001b[0mgenerate_data\u001b[0m\u001b[0;34m(\u001b[0m\u001b[0mdb_dft\u001b[0m\u001b[0;34m,\u001b[0m\u001b[0mdb_dftb\u001b[0m\u001b[0;34m,\u001b[0m\u001b[0mdb_ccs\u001b[0m\u001b[0;34m)\u001b[0m\u001b[0;34m\u001b[0m\u001b[0;34m\u001b[0m\u001b[0m\n\u001b[0m",
      "\u001b[0;31mNameError\u001b[0m: name 'generate_data' is not defined"
     ]
    }
   ],
   "source": [
    "# generate the data set \n",
    "os.chdir(base_dir)\n",
    "!pwd\n",
    "\n",
    "db_ccs=ase.db.connect(\"CCS_DB.db\")     # CCS database\n",
    "db_dft=ase.db.connect(\"DFT_DB.db\")     # DFT database, original keys for structure\n",
    "db_dftb=ase.db.connect(\"DFTB_DB.db\")   # DFTB database  \n",
    "\n",
    "generate_data(db_dft,db_dftb,db_ccs)\n"
   ]
  },
  {
   "cell_type": "code",
   "execution_count": 34,
   "id": "0ba5f346-0f47-41a5-8bbd-4c3d3e4569cf",
   "metadata": {},
   "outputs": [],
   "source": [
    "os.chdir(base_dir)\n",
    "cwd = os.getcwd()\n",
    "os.chdir(cwd+\"/PiNN/\")\n",
    "\n",
    "#trainset.xyz -o 'train:9,test:1'     \n",
    "\n",
    "\n",
    "from pinn.io import load_ase, write_tfrecord\n",
    "\n",
    "\n",
    "#ds=load_ase('trainset.xyz',splits={'train':8, 'test':2})\n",
    "#next(iter(ds['train']))\n",
    "\n",
    "filelist = 'trainset.xyz'\n",
    "dataset = lambda: load_ase(filelist, splits={'train':8, 'test':2})\n",
    "train = lambda: dataset()['train'].repeat().shuffle(1000).apply(sparse_batch(1))\n",
    "test = lambda: dataset()['test'].apply(sparse_batch(1))"
   ]
  },
  {
   "cell_type": "code",
   "execution_count": 27,
   "id": "c4de540a-2674-4381-89d3-da0bdb731dce",
   "metadata": {},
   "outputs": [
    {
     "name": "stdout",
     "output_type": "stream",
     "text": [
      "/home/broqvist/Desktop/parautomatik/Electrolyte/PiNN\n"
     ]
    }
   ],
   "source": [
    "!pwd"
   ]
  },
  {
   "cell_type": "code",
   "execution_count": 35,
   "id": "4430e108-8176-488e-af1e-7a200ee02ae4",
   "metadata": {},
   "outputs": [
    {
     "name": "stdout",
     "output_type": "stream",
     "text": [
      "Fitting an atomic dress from the training set.\n",
      " RMSE after substracting the dress: 1.112540e+00\n",
      "INFO:tensorflow:Using default config.\n"
     ]
    },
    {
     "name": "stderr",
     "output_type": "stream",
     "text": [
      "INFO:tensorflow:Using default config.\n"
     ]
    },
    {
     "name": "stdout",
     "output_type": "stream",
     "text": [
      "INFO:tensorflow:Using config: {'_model_dir': './', '_tf_random_seed': None, '_save_summary_steps': 100, '_save_checkpoints_steps': None, '_save_checkpoints_secs': 600, '_session_config': allow_soft_placement: true\n",
      "graph_options {\n",
      "  rewrite_options {\n",
      "    meta_optimizer_iterations: ONE\n",
      "  }\n",
      "}\n",
      ", '_keep_checkpoint_max': 5, '_keep_checkpoint_every_n_hours': 10000, '_log_step_count_steps': 100, '_train_distribute': None, '_device_fn': None, '_protocol': None, '_eval_distribute': None, '_experimental_distribute': None, '_experimental_max_worker_delay_secs': None, '_session_creation_timeout_secs': 7200, '_checkpoint_save_graph_def': True, '_service': None, '_cluster_spec': ClusterSpec({}), '_task_type': 'worker', '_task_id': 0, '_global_id_in_cluster': 0, '_master': '', '_evaluation_master': '', '_is_chief': True, '_num_ps_replicas': 0, '_num_worker_replicas': 1}\n"
     ]
    },
    {
     "name": "stderr",
     "output_type": "stream",
     "text": [
      "INFO:tensorflow:Using config: {'_model_dir': './', '_tf_random_seed': None, '_save_summary_steps': 100, '_save_checkpoints_steps': None, '_save_checkpoints_secs': 600, '_session_config': allow_soft_placement: true\n",
      "graph_options {\n",
      "  rewrite_options {\n",
      "    meta_optimizer_iterations: ONE\n",
      "  }\n",
      "}\n",
      ", '_keep_checkpoint_max': 5, '_keep_checkpoint_every_n_hours': 10000, '_log_step_count_steps': 100, '_train_distribute': None, '_device_fn': None, '_protocol': None, '_eval_distribute': None, '_experimental_distribute': None, '_experimental_max_worker_delay_secs': None, '_session_creation_timeout_secs': 7200, '_checkpoint_save_graph_def': True, '_service': None, '_cluster_spec': ClusterSpec({}), '_task_type': 'worker', '_task_id': 0, '_global_id_in_cluster': 0, '_master': '', '_evaluation_master': '', '_is_chief': True, '_num_ps_replicas': 0, '_num_worker_replicas': 1}\n"
     ]
    }
   ],
   "source": [
    "from pinn import get_model\n",
    "params={'model_dir': './',\n",
    "          'network': {\n",
    "              'name': 'PiNet',\n",
    "              'params': {\n",
    "                  'depth': 4,\n",
    "                  'rc':4.0,\n",
    "                  'atom_types':[1,6,7,8,9]\n",
    "              },\n",
    "          },\n",
    "          'model': {\n",
    "              'name': 'potential_model',\n",
    "              'params': {\n",
    "                  'learning_rate': 1e-3\n",
    "              }},\n",
    "        'optimizer': {\n",
    "    'class_name': 'EKF',\n",
    "    'config': {\n",
    "        'learning_rate': 0.03}}\n",
    "}\n",
    "\n",
    "from pinn.utils import init_params \n",
    "\n",
    "init_params(params, ds['train'])\n",
    "\n",
    "model = get_model(params)\n",
    "\n",
    "# pinn train -t train.yml -e test.yml --train-steps 250000 -d peppe -b 30 --init params.yml"
   ]
  },
  {
   "cell_type": "code",
   "execution_count": 36,
   "id": "999d040b-7385-41ee-bcc5-db22f3d32b29",
   "metadata": {},
   "outputs": [],
   "source": [
    "\n",
    "train_spec = tf.estimator.TrainSpec(input_fn=train, max_steps=1000)\n",
    "eval_spec = tf.estimator.EvalSpec(input_fn=test)\n"
   ]
  },
  {
   "cell_type": "code",
   "execution_count": 37,
   "id": "19116fff-37fc-44d8-9833-a9b2b978fc0d",
   "metadata": {},
   "outputs": [
    {
     "name": "stdout",
     "output_type": "stream",
     "text": [
      "INFO:tensorflow:Not using Distribute Coordinator.\n"
     ]
    },
    {
     "name": "stderr",
     "output_type": "stream",
     "text": [
      "INFO:tensorflow:Not using Distribute Coordinator.\n"
     ]
    },
    {
     "name": "stdout",
     "output_type": "stream",
     "text": [
      "INFO:tensorflow:Running training and evaluation locally (non-distributed).\n"
     ]
    },
    {
     "name": "stderr",
     "output_type": "stream",
     "text": [
      "INFO:tensorflow:Running training and evaluation locally (non-distributed).\n"
     ]
    },
    {
     "name": "stdout",
     "output_type": "stream",
     "text": [
      "INFO:tensorflow:Start train and evaluate loop. The evaluate will happen after every checkpoint. Checkpoint frequency is determined based on RunConfig arguments: save_checkpoints_steps None or save_checkpoints_secs 600.\n"
     ]
    },
    {
     "name": "stderr",
     "output_type": "stream",
     "text": [
      "INFO:tensorflow:Start train and evaluate loop. The evaluate will happen after every checkpoint. Checkpoint frequency is determined based on RunConfig arguments: save_checkpoints_steps None or save_checkpoints_secs 600.\n"
     ]
    },
    {
     "name": "stdout",
     "output_type": "stream",
     "text": [
      "WARNING:tensorflow:From /home/broqvist/.local/lib/python3.9/site-packages/tensorflow/python/training/training_util.py:400: Variable.initialized_value (from tensorflow.python.ops.variables) is deprecated and will be removed in a future version.\n",
      "Instructions for updating:\n",
      "Use Variable.read_value. Variables in 2.X are initialized automatically both in eager and graph (inside tf.defun) contexts.\n"
     ]
    },
    {
     "name": "stderr",
     "output_type": "stream",
     "text": [
      "WARNING:tensorflow:From /home/broqvist/.local/lib/python3.9/site-packages/tensorflow/python/training/training_util.py:400: Variable.initialized_value (from tensorflow.python.ops.variables) is deprecated and will be removed in a future version.\n",
      "Instructions for updating:\n",
      "Use Variable.read_value. Variables in 2.X are initialized automatically both in eager and graph (inside tf.defun) contexts.\n"
     ]
    },
    {
     "name": "stdout",
     "output_type": "stream",
     "text": [
      "INFO:tensorflow:Calling model_fn.\n"
     ]
    },
    {
     "name": "stderr",
     "output_type": "stream",
     "text": [
      "INFO:tensorflow:Calling model_fn.\n"
     ]
    },
    {
     "name": "stdout",
     "output_type": "stream",
     "text": [
      "12112 trainable vaiabless, training with float32 precision.\n",
      "INFO:tensorflow:Done calling model_fn.\n"
     ]
    },
    {
     "name": "stderr",
     "output_type": "stream",
     "text": [
      "INFO:tensorflow:Done calling model_fn.\n"
     ]
    },
    {
     "name": "stdout",
     "output_type": "stream",
     "text": [
      "INFO:tensorflow:Create CheckpointSaverHook.\n"
     ]
    },
    {
     "name": "stderr",
     "output_type": "stream",
     "text": [
      "INFO:tensorflow:Create CheckpointSaverHook.\n"
     ]
    },
    {
     "name": "stdout",
     "output_type": "stream",
     "text": [
      "INFO:tensorflow:Graph was finalized.\n"
     ]
    },
    {
     "name": "stderr",
     "output_type": "stream",
     "text": [
      "INFO:tensorflow:Graph was finalized.\n"
     ]
    },
    {
     "name": "stdout",
     "output_type": "stream",
     "text": [
      "INFO:tensorflow:Running local_init_op.\n"
     ]
    },
    {
     "name": "stderr",
     "output_type": "stream",
     "text": [
      "INFO:tensorflow:Running local_init_op.\n"
     ]
    },
    {
     "name": "stdout",
     "output_type": "stream",
     "text": [
      "INFO:tensorflow:Done running local_init_op.\n"
     ]
    },
    {
     "name": "stderr",
     "output_type": "stream",
     "text": [
      "INFO:tensorflow:Done running local_init_op.\n"
     ]
    },
    {
     "name": "stdout",
     "output_type": "stream",
     "text": [
      "INFO:tensorflow:Calling checkpoint listeners before saving checkpoint 0...\n"
     ]
    },
    {
     "name": "stderr",
     "output_type": "stream",
     "text": [
      "INFO:tensorflow:Calling checkpoint listeners before saving checkpoint 0...\n"
     ]
    },
    {
     "name": "stdout",
     "output_type": "stream",
     "text": [
      "INFO:tensorflow:Saving checkpoints for 0 into ./model.ckpt.\n"
     ]
    },
    {
     "name": "stderr",
     "output_type": "stream",
     "text": [
      "INFO:tensorflow:Saving checkpoints for 0 into ./model.ckpt.\n"
     ]
    },
    {
     "name": "stdout",
     "output_type": "stream",
     "text": [
      "INFO:tensorflow:Calling checkpoint listeners after saving checkpoint 0...\n"
     ]
    },
    {
     "name": "stderr",
     "output_type": "stream",
     "text": [
      "INFO:tensorflow:Calling checkpoint listeners after saving checkpoint 0...\n"
     ]
    },
    {
     "name": "stdout",
     "output_type": "stream",
     "text": [
      "INFO:tensorflow:loss = 10.700495, step = 0\n"
     ]
    },
    {
     "name": "stderr",
     "output_type": "stream",
     "text": [
      "INFO:tensorflow:loss = 10.700495, step = 0\n"
     ]
    },
    {
     "name": "stdout",
     "output_type": "stream",
     "text": [
      "INFO:tensorflow:global_step/sec: 0.638482\n"
     ]
    },
    {
     "name": "stderr",
     "output_type": "stream",
     "text": [
      "INFO:tensorflow:global_step/sec: 0.638482\n"
     ]
    },
    {
     "name": "stdout",
     "output_type": "stream",
     "text": [
      "INFO:tensorflow:loss = 0.025697585, step = 100 (156.627 sec)\n"
     ]
    },
    {
     "name": "stderr",
     "output_type": "stream",
     "text": [
      "INFO:tensorflow:loss = 0.025697585, step = 100 (156.627 sec)\n"
     ]
    },
    {
     "name": "stdout",
     "output_type": "stream",
     "text": [
      "INFO:tensorflow:global_step/sec: 0.708309\n"
     ]
    },
    {
     "name": "stderr",
     "output_type": "stream",
     "text": [
      "INFO:tensorflow:global_step/sec: 0.708309\n"
     ]
    },
    {
     "name": "stdout",
     "output_type": "stream",
     "text": [
      "INFO:tensorflow:loss = 0.030897435, step = 200 (141.182 sec)\n"
     ]
    },
    {
     "name": "stderr",
     "output_type": "stream",
     "text": [
      "INFO:tensorflow:loss = 0.030897435, step = 200 (141.182 sec)\n"
     ]
    },
    {
     "name": "stdout",
     "output_type": "stream",
     "text": [
      "INFO:tensorflow:global_step/sec: 0.707893\n"
     ]
    },
    {
     "name": "stderr",
     "output_type": "stream",
     "text": [
      "INFO:tensorflow:global_step/sec: 0.707893\n"
     ]
    },
    {
     "name": "stdout",
     "output_type": "stream",
     "text": [
      "INFO:tensorflow:loss = 0.0014648892, step = 300 (141.264 sec)\n"
     ]
    },
    {
     "name": "stderr",
     "output_type": "stream",
     "text": [
      "INFO:tensorflow:loss = 0.0014648892, step = 300 (141.264 sec)\n"
     ]
    },
    {
     "name": "stdout",
     "output_type": "stream",
     "text": [
      "INFO:tensorflow:global_step/sec: 0.707941\n"
     ]
    },
    {
     "name": "stderr",
     "output_type": "stream",
     "text": [
      "INFO:tensorflow:global_step/sec: 0.707941\n"
     ]
    },
    {
     "name": "stdout",
     "output_type": "stream",
     "text": [
      "INFO:tensorflow:loss = 0.0005293456, step = 400 (141.255 sec)\n"
     ]
    },
    {
     "name": "stderr",
     "output_type": "stream",
     "text": [
      "INFO:tensorflow:loss = 0.0005293456, step = 400 (141.255 sec)\n"
     ]
    },
    {
     "name": "stdout",
     "output_type": "stream",
     "text": [
      "INFO:tensorflow:Calling checkpoint listeners before saving checkpoint 402...\n"
     ]
    },
    {
     "name": "stderr",
     "output_type": "stream",
     "text": [
      "INFO:tensorflow:Calling checkpoint listeners before saving checkpoint 402...\n"
     ]
    },
    {
     "name": "stdout",
     "output_type": "stream",
     "text": [
      "INFO:tensorflow:Saving checkpoints for 402 into ./model.ckpt.\n"
     ]
    },
    {
     "name": "stderr",
     "output_type": "stream",
     "text": [
      "INFO:tensorflow:Saving checkpoints for 402 into ./model.ckpt.\n"
     ]
    },
    {
     "name": "stdout",
     "output_type": "stream",
     "text": [
      "INFO:tensorflow:Calling checkpoint listeners after saving checkpoint 402...\n"
     ]
    },
    {
     "name": "stderr",
     "output_type": "stream",
     "text": [
      "INFO:tensorflow:Calling checkpoint listeners after saving checkpoint 402...\n"
     ]
    },
    {
     "name": "stdout",
     "output_type": "stream",
     "text": [
      "INFO:tensorflow:Calling model_fn.\n"
     ]
    },
    {
     "name": "stderr",
     "output_type": "stream",
     "text": [
      "INFO:tensorflow:Calling model_fn.\n"
     ]
    },
    {
     "name": "stdout",
     "output_type": "stream",
     "text": [
      "INFO:tensorflow:Done calling model_fn.\n"
     ]
    },
    {
     "name": "stderr",
     "output_type": "stream",
     "text": [
      "INFO:tensorflow:Done calling model_fn.\n"
     ]
    },
    {
     "name": "stdout",
     "output_type": "stream",
     "text": [
      "INFO:tensorflow:Starting evaluation at 2021-12-22T16:36:57\n"
     ]
    },
    {
     "name": "stderr",
     "output_type": "stream",
     "text": [
      "INFO:tensorflow:Starting evaluation at 2021-12-22T16:36:57\n"
     ]
    },
    {
     "name": "stdout",
     "output_type": "stream",
     "text": [
      "INFO:tensorflow:Graph was finalized.\n"
     ]
    },
    {
     "name": "stderr",
     "output_type": "stream",
     "text": [
      "INFO:tensorflow:Graph was finalized.\n"
     ]
    },
    {
     "name": "stdout",
     "output_type": "stream",
     "text": [
      "INFO:tensorflow:Restoring parameters from ./model.ckpt-402\n"
     ]
    },
    {
     "name": "stderr",
     "output_type": "stream",
     "text": [
      "INFO:tensorflow:Restoring parameters from ./model.ckpt-402\n"
     ]
    },
    {
     "name": "stdout",
     "output_type": "stream",
     "text": [
      "INFO:tensorflow:Running local_init_op.\n"
     ]
    },
    {
     "name": "stderr",
     "output_type": "stream",
     "text": [
      "INFO:tensorflow:Running local_init_op.\n"
     ]
    },
    {
     "name": "stdout",
     "output_type": "stream",
     "text": [
      "INFO:tensorflow:Done running local_init_op.\n"
     ]
    },
    {
     "name": "stderr",
     "output_type": "stream",
     "text": [
      "INFO:tensorflow:Done running local_init_op.\n"
     ]
    },
    {
     "name": "stdout",
     "output_type": "stream",
     "text": [
      "INFO:tensorflow:Evaluation [10/100]\n"
     ]
    },
    {
     "name": "stderr",
     "output_type": "stream",
     "text": [
      "INFO:tensorflow:Evaluation [10/100]\n"
     ]
    },
    {
     "name": "stdout",
     "output_type": "stream",
     "text": [
      "INFO:tensorflow:Evaluation [20/100]\n"
     ]
    },
    {
     "name": "stderr",
     "output_type": "stream",
     "text": [
      "INFO:tensorflow:Evaluation [20/100]\n"
     ]
    },
    {
     "name": "stdout",
     "output_type": "stream",
     "text": [
      "INFO:tensorflow:Evaluation [30/100]\n"
     ]
    },
    {
     "name": "stderr",
     "output_type": "stream",
     "text": [
      "INFO:tensorflow:Evaluation [30/100]\n"
     ]
    },
    {
     "name": "stdout",
     "output_type": "stream",
     "text": [
      "INFO:tensorflow:Evaluation [40/100]\n"
     ]
    },
    {
     "name": "stderr",
     "output_type": "stream",
     "text": [
      "INFO:tensorflow:Evaluation [40/100]\n"
     ]
    },
    {
     "name": "stdout",
     "output_type": "stream",
     "text": [
      "INFO:tensorflow:Evaluation [50/100]\n"
     ]
    },
    {
     "name": "stderr",
     "output_type": "stream",
     "text": [
      "INFO:tensorflow:Evaluation [50/100]\n"
     ]
    },
    {
     "name": "stdout",
     "output_type": "stream",
     "text": [
      "INFO:tensorflow:Evaluation [60/100]\n"
     ]
    },
    {
     "name": "stderr",
     "output_type": "stream",
     "text": [
      "INFO:tensorflow:Evaluation [60/100]\n"
     ]
    },
    {
     "name": "stdout",
     "output_type": "stream",
     "text": [
      "INFO:tensorflow:Evaluation [70/100]\n"
     ]
    },
    {
     "name": "stderr",
     "output_type": "stream",
     "text": [
      "INFO:tensorflow:Evaluation [70/100]\n"
     ]
    },
    {
     "name": "stdout",
     "output_type": "stream",
     "text": [
      "INFO:tensorflow:Evaluation [80/100]\n"
     ]
    },
    {
     "name": "stderr",
     "output_type": "stream",
     "text": [
      "INFO:tensorflow:Evaluation [80/100]\n"
     ]
    },
    {
     "name": "stdout",
     "output_type": "stream",
     "text": [
      "INFO:tensorflow:Evaluation [90/100]\n"
     ]
    },
    {
     "name": "stderr",
     "output_type": "stream",
     "text": [
      "INFO:tensorflow:Evaluation [90/100]\n"
     ]
    },
    {
     "name": "stdout",
     "output_type": "stream",
     "text": [
      "INFO:tensorflow:Evaluation [100/100]\n"
     ]
    },
    {
     "name": "stderr",
     "output_type": "stream",
     "text": [
      "INFO:tensorflow:Evaluation [100/100]\n"
     ]
    },
    {
     "name": "stdout",
     "output_type": "stream",
     "text": [
      "INFO:tensorflow:Inference Time : 1.21487s\n"
     ]
    },
    {
     "name": "stderr",
     "output_type": "stream",
     "text": [
      "INFO:tensorflow:Inference Time : 1.21487s\n"
     ]
    },
    {
     "name": "stdout",
     "output_type": "stream",
     "text": [
      "INFO:tensorflow:Finished evaluation at 2021-12-22-16:36:58\n"
     ]
    },
    {
     "name": "stderr",
     "output_type": "stream",
     "text": [
      "INFO:tensorflow:Finished evaluation at 2021-12-22-16:36:58\n"
     ]
    },
    {
     "name": "stdout",
     "output_type": "stream",
     "text": [
      "INFO:tensorflow:Saving dict for global step 402: METRICS/E_LOSS = 1.4823785, METRICS/E_MAE = 1.0316457, METRICS/E_RMSE = 1.2175297, global_step = 402, loss = 1.4823785\n"
     ]
    },
    {
     "name": "stderr",
     "output_type": "stream",
     "text": [
      "INFO:tensorflow:Saving dict for global step 402: METRICS/E_LOSS = 1.4823785, METRICS/E_MAE = 1.0316457, METRICS/E_RMSE = 1.2175297, global_step = 402, loss = 1.4823785\n"
     ]
    },
    {
     "name": "stdout",
     "output_type": "stream",
     "text": [
      "INFO:tensorflow:Saving 'checkpoint_path' summary for global step 402: ./model.ckpt-402\n"
     ]
    },
    {
     "name": "stderr",
     "output_type": "stream",
     "text": [
      "INFO:tensorflow:Saving 'checkpoint_path' summary for global step 402: ./model.ckpt-402\n"
     ]
    },
    {
     "name": "stdout",
     "output_type": "stream",
     "text": [
      "INFO:tensorflow:global_step/sec: 0.443763\n"
     ]
    },
    {
     "name": "stderr",
     "output_type": "stream",
     "text": [
      "INFO:tensorflow:global_step/sec: 0.443763\n"
     ]
    },
    {
     "name": "stdout",
     "output_type": "stream",
     "text": [
      "INFO:tensorflow:loss = 0.001961573, step = 500 (225.345 sec)\n"
     ]
    },
    {
     "name": "stderr",
     "output_type": "stream",
     "text": [
      "INFO:tensorflow:loss = 0.001961573, step = 500 (225.345 sec)\n"
     ]
    },
    {
     "name": "stdout",
     "output_type": "stream",
     "text": [
      "INFO:tensorflow:global_step/sec: 0.700779\n"
     ]
    },
    {
     "name": "stderr",
     "output_type": "stream",
     "text": [
      "INFO:tensorflow:global_step/sec: 0.700779\n"
     ]
    },
    {
     "name": "stdout",
     "output_type": "stream",
     "text": [
      "INFO:tensorflow:loss = 0.0028760037, step = 600 (142.698 sec)\n"
     ]
    },
    {
     "name": "stderr",
     "output_type": "stream",
     "text": [
      "INFO:tensorflow:loss = 0.0028760037, step = 600 (142.698 sec)\n"
     ]
    },
    {
     "name": "stdout",
     "output_type": "stream",
     "text": [
      "INFO:tensorflow:global_step/sec: 0.697089\n"
     ]
    },
    {
     "name": "stderr",
     "output_type": "stream",
     "text": [
      "INFO:tensorflow:global_step/sec: 0.697089\n"
     ]
    },
    {
     "name": "stdout",
     "output_type": "stream",
     "text": [
      "INFO:tensorflow:loss = 0.0005614696, step = 700 (143.453 sec)\n"
     ]
    },
    {
     "name": "stderr",
     "output_type": "stream",
     "text": [
      "INFO:tensorflow:loss = 0.0005614696, step = 700 (143.453 sec)\n"
     ]
    },
    {
     "name": "stdout",
     "output_type": "stream",
     "text": [
      "INFO:tensorflow:Calling checkpoint listeners before saving checkpoint 767...\n"
     ]
    },
    {
     "name": "stderr",
     "output_type": "stream",
     "text": [
      "INFO:tensorflow:Calling checkpoint listeners before saving checkpoint 767...\n"
     ]
    },
    {
     "name": "stdout",
     "output_type": "stream",
     "text": [
      "INFO:tensorflow:Saving checkpoints for 767 into ./model.ckpt.\n"
     ]
    },
    {
     "name": "stderr",
     "output_type": "stream",
     "text": [
      "INFO:tensorflow:Saving checkpoints for 767 into ./model.ckpt.\n"
     ]
    },
    {
     "name": "stdout",
     "output_type": "stream",
     "text": [
      "INFO:tensorflow:Calling checkpoint listeners after saving checkpoint 767...\n"
     ]
    },
    {
     "name": "stderr",
     "output_type": "stream",
     "text": [
      "INFO:tensorflow:Calling checkpoint listeners after saving checkpoint 767...\n"
     ]
    },
    {
     "name": "stdout",
     "output_type": "stream",
     "text": [
      "INFO:tensorflow:Calling model_fn.\n"
     ]
    },
    {
     "name": "stderr",
     "output_type": "stream",
     "text": [
      "INFO:tensorflow:Calling model_fn.\n"
     ]
    },
    {
     "name": "stdout",
     "output_type": "stream",
     "text": [
      "INFO:tensorflow:Done calling model_fn.\n"
     ]
    },
    {
     "name": "stderr",
     "output_type": "stream",
     "text": [
      "INFO:tensorflow:Done calling model_fn.\n"
     ]
    },
    {
     "name": "stdout",
     "output_type": "stream",
     "text": [
      "INFO:tensorflow:Starting evaluation at 2021-12-22T16:49:10\n"
     ]
    },
    {
     "name": "stderr",
     "output_type": "stream",
     "text": [
      "INFO:tensorflow:Starting evaluation at 2021-12-22T16:49:10\n"
     ]
    },
    {
     "name": "stdout",
     "output_type": "stream",
     "text": [
      "INFO:tensorflow:Graph was finalized.\n"
     ]
    },
    {
     "name": "stderr",
     "output_type": "stream",
     "text": [
      "INFO:tensorflow:Graph was finalized.\n"
     ]
    },
    {
     "name": "stdout",
     "output_type": "stream",
     "text": [
      "INFO:tensorflow:Restoring parameters from ./model.ckpt-767\n"
     ]
    },
    {
     "name": "stderr",
     "output_type": "stream",
     "text": [
      "INFO:tensorflow:Restoring parameters from ./model.ckpt-767\n"
     ]
    },
    {
     "name": "stdout",
     "output_type": "stream",
     "text": [
      "INFO:tensorflow:Running local_init_op.\n"
     ]
    },
    {
     "name": "stderr",
     "output_type": "stream",
     "text": [
      "INFO:tensorflow:Running local_init_op.\n"
     ]
    },
    {
     "name": "stdout",
     "output_type": "stream",
     "text": [
      "INFO:tensorflow:Done running local_init_op.\n"
     ]
    },
    {
     "name": "stderr",
     "output_type": "stream",
     "text": [
      "INFO:tensorflow:Done running local_init_op.\n"
     ]
    },
    {
     "name": "stdout",
     "output_type": "stream",
     "text": [
      "INFO:tensorflow:Evaluation [10/100]\n"
     ]
    },
    {
     "name": "stderr",
     "output_type": "stream",
     "text": [
      "INFO:tensorflow:Evaluation [10/100]\n"
     ]
    },
    {
     "name": "stdout",
     "output_type": "stream",
     "text": [
      "INFO:tensorflow:Evaluation [20/100]\n"
     ]
    },
    {
     "name": "stderr",
     "output_type": "stream",
     "text": [
      "INFO:tensorflow:Evaluation [20/100]\n"
     ]
    },
    {
     "name": "stdout",
     "output_type": "stream",
     "text": [
      "INFO:tensorflow:Evaluation [30/100]\n"
     ]
    },
    {
     "name": "stderr",
     "output_type": "stream",
     "text": [
      "INFO:tensorflow:Evaluation [30/100]\n"
     ]
    },
    {
     "name": "stdout",
     "output_type": "stream",
     "text": [
      "INFO:tensorflow:Evaluation [40/100]\n"
     ]
    },
    {
     "name": "stderr",
     "output_type": "stream",
     "text": [
      "INFO:tensorflow:Evaluation [40/100]\n"
     ]
    },
    {
     "name": "stdout",
     "output_type": "stream",
     "text": [
      "INFO:tensorflow:Evaluation [50/100]\n"
     ]
    },
    {
     "name": "stderr",
     "output_type": "stream",
     "text": [
      "INFO:tensorflow:Evaluation [50/100]\n"
     ]
    },
    {
     "name": "stdout",
     "output_type": "stream",
     "text": [
      "INFO:tensorflow:Evaluation [60/100]\n"
     ]
    },
    {
     "name": "stderr",
     "output_type": "stream",
     "text": [
      "INFO:tensorflow:Evaluation [60/100]\n"
     ]
    },
    {
     "name": "stdout",
     "output_type": "stream",
     "text": [
      "INFO:tensorflow:Evaluation [70/100]\n"
     ]
    },
    {
     "name": "stderr",
     "output_type": "stream",
     "text": [
      "INFO:tensorflow:Evaluation [70/100]\n"
     ]
    },
    {
     "name": "stdout",
     "output_type": "stream",
     "text": [
      "INFO:tensorflow:Evaluation [80/100]\n"
     ]
    },
    {
     "name": "stderr",
     "output_type": "stream",
     "text": [
      "INFO:tensorflow:Evaluation [80/100]\n"
     ]
    },
    {
     "name": "stdout",
     "output_type": "stream",
     "text": [
      "INFO:tensorflow:Evaluation [90/100]\n"
     ]
    },
    {
     "name": "stderr",
     "output_type": "stream",
     "text": [
      "INFO:tensorflow:Evaluation [90/100]\n"
     ]
    },
    {
     "name": "stdout",
     "output_type": "stream",
     "text": [
      "INFO:tensorflow:Evaluation [100/100]\n"
     ]
    },
    {
     "name": "stderr",
     "output_type": "stream",
     "text": [
      "INFO:tensorflow:Evaluation [100/100]\n"
     ]
    },
    {
     "name": "stdout",
     "output_type": "stream",
     "text": [
      "INFO:tensorflow:Inference Time : 1.21799s\n"
     ]
    },
    {
     "name": "stderr",
     "output_type": "stream",
     "text": [
      "INFO:tensorflow:Inference Time : 1.21799s\n"
     ]
    },
    {
     "name": "stdout",
     "output_type": "stream",
     "text": [
      "INFO:tensorflow:Finished evaluation at 2021-12-22-16:49:11\n"
     ]
    },
    {
     "name": "stderr",
     "output_type": "stream",
     "text": [
      "INFO:tensorflow:Finished evaluation at 2021-12-22-16:49:11\n"
     ]
    },
    {
     "name": "stdout",
     "output_type": "stream",
     "text": [
      "INFO:tensorflow:Saving dict for global step 767: METRICS/E_LOSS = 1.5793718, METRICS/E_MAE = 1.0703582, METRICS/E_RMSE = 1.2567306, global_step = 767, loss = 1.5793718\n"
     ]
    },
    {
     "name": "stderr",
     "output_type": "stream",
     "text": [
      "INFO:tensorflow:Saving dict for global step 767: METRICS/E_LOSS = 1.5793718, METRICS/E_MAE = 1.0703582, METRICS/E_RMSE = 1.2567306, global_step = 767, loss = 1.5793718\n"
     ]
    },
    {
     "name": "stdout",
     "output_type": "stream",
     "text": [
      "INFO:tensorflow:Saving 'checkpoint_path' summary for global step 767: ./model.ckpt-767\n"
     ]
    },
    {
     "name": "stderr",
     "output_type": "stream",
     "text": [
      "INFO:tensorflow:Saving 'checkpoint_path' summary for global step 767: ./model.ckpt-767\n"
     ]
    },
    {
     "name": "stdout",
     "output_type": "stream",
     "text": [
      "INFO:tensorflow:global_step/sec: 0.287229\n"
     ]
    },
    {
     "name": "stderr",
     "output_type": "stream",
     "text": [
      "INFO:tensorflow:global_step/sec: 0.287229\n"
     ]
    },
    {
     "name": "stdout",
     "output_type": "stream",
     "text": [
      "INFO:tensorflow:loss = 2.568486e-06, step = 800 (348.155 sec)\n"
     ]
    },
    {
     "name": "stderr",
     "output_type": "stream",
     "text": [
      "INFO:tensorflow:loss = 2.568486e-06, step = 800 (348.155 sec)\n"
     ]
    },
    {
     "name": "stdout",
     "output_type": "stream",
     "text": [
      "INFO:tensorflow:global_step/sec: 0.698429\n"
     ]
    },
    {
     "name": "stderr",
     "output_type": "stream",
     "text": [
      "INFO:tensorflow:global_step/sec: 0.698429\n"
     ]
    },
    {
     "name": "stdout",
     "output_type": "stream",
     "text": [
      "INFO:tensorflow:loss = 0.00041918657, step = 900 (143.177 sec)\n"
     ]
    },
    {
     "name": "stderr",
     "output_type": "stream",
     "text": [
      "INFO:tensorflow:loss = 0.00041918657, step = 900 (143.177 sec)\n"
     ]
    },
    {
     "name": "stdout",
     "output_type": "stream",
     "text": [
      "INFO:tensorflow:Calling checkpoint listeners before saving checkpoint 1000...\n"
     ]
    },
    {
     "name": "stderr",
     "output_type": "stream",
     "text": [
      "INFO:tensorflow:Calling checkpoint listeners before saving checkpoint 1000...\n"
     ]
    },
    {
     "name": "stdout",
     "output_type": "stream",
     "text": [
      "INFO:tensorflow:Saving checkpoints for 1000 into ./model.ckpt.\n"
     ]
    },
    {
     "name": "stderr",
     "output_type": "stream",
     "text": [
      "INFO:tensorflow:Saving checkpoints for 1000 into ./model.ckpt.\n"
     ]
    },
    {
     "name": "stdout",
     "output_type": "stream",
     "text": [
      "INFO:tensorflow:Calling checkpoint listeners after saving checkpoint 1000...\n"
     ]
    },
    {
     "name": "stderr",
     "output_type": "stream",
     "text": [
      "INFO:tensorflow:Calling checkpoint listeners after saving checkpoint 1000...\n"
     ]
    },
    {
     "name": "stdout",
     "output_type": "stream",
     "text": [
      "INFO:tensorflow:Skip the current checkpoint eval due to throttle secs (600 secs).\n"
     ]
    },
    {
     "name": "stderr",
     "output_type": "stream",
     "text": [
      "INFO:tensorflow:Skip the current checkpoint eval due to throttle secs (600 secs).\n"
     ]
    },
    {
     "name": "stdout",
     "output_type": "stream",
     "text": [
      "INFO:tensorflow:Calling model_fn.\n"
     ]
    },
    {
     "name": "stderr",
     "output_type": "stream",
     "text": [
      "INFO:tensorflow:Calling model_fn.\n"
     ]
    },
    {
     "name": "stdout",
     "output_type": "stream",
     "text": [
      "INFO:tensorflow:Done calling model_fn.\n"
     ]
    },
    {
     "name": "stderr",
     "output_type": "stream",
     "text": [
      "INFO:tensorflow:Done calling model_fn.\n"
     ]
    },
    {
     "name": "stdout",
     "output_type": "stream",
     "text": [
      "INFO:tensorflow:Starting evaluation at 2021-12-22T16:56:58\n"
     ]
    },
    {
     "name": "stderr",
     "output_type": "stream",
     "text": [
      "INFO:tensorflow:Starting evaluation at 2021-12-22T16:56:58\n"
     ]
    },
    {
     "name": "stdout",
     "output_type": "stream",
     "text": [
      "INFO:tensorflow:Graph was finalized.\n"
     ]
    },
    {
     "name": "stderr",
     "output_type": "stream",
     "text": [
      "INFO:tensorflow:Graph was finalized.\n"
     ]
    },
    {
     "name": "stdout",
     "output_type": "stream",
     "text": [
      "INFO:tensorflow:Restoring parameters from ./model.ckpt-1000\n"
     ]
    },
    {
     "name": "stderr",
     "output_type": "stream",
     "text": [
      "INFO:tensorflow:Restoring parameters from ./model.ckpt-1000\n"
     ]
    },
    {
     "name": "stdout",
     "output_type": "stream",
     "text": [
      "INFO:tensorflow:Running local_init_op.\n"
     ]
    },
    {
     "name": "stderr",
     "output_type": "stream",
     "text": [
      "INFO:tensorflow:Running local_init_op.\n"
     ]
    },
    {
     "name": "stdout",
     "output_type": "stream",
     "text": [
      "INFO:tensorflow:Done running local_init_op.\n"
     ]
    },
    {
     "name": "stderr",
     "output_type": "stream",
     "text": [
      "INFO:tensorflow:Done running local_init_op.\n"
     ]
    },
    {
     "name": "stdout",
     "output_type": "stream",
     "text": [
      "INFO:tensorflow:Evaluation [10/100]\n"
     ]
    },
    {
     "name": "stderr",
     "output_type": "stream",
     "text": [
      "INFO:tensorflow:Evaluation [10/100]\n"
     ]
    },
    {
     "name": "stdout",
     "output_type": "stream",
     "text": [
      "INFO:tensorflow:Evaluation [20/100]\n"
     ]
    },
    {
     "name": "stderr",
     "output_type": "stream",
     "text": [
      "INFO:tensorflow:Evaluation [20/100]\n"
     ]
    },
    {
     "name": "stdout",
     "output_type": "stream",
     "text": [
      "INFO:tensorflow:Evaluation [30/100]\n"
     ]
    },
    {
     "name": "stderr",
     "output_type": "stream",
     "text": [
      "INFO:tensorflow:Evaluation [30/100]\n"
     ]
    },
    {
     "name": "stdout",
     "output_type": "stream",
     "text": [
      "INFO:tensorflow:Evaluation [40/100]\n"
     ]
    },
    {
     "name": "stderr",
     "output_type": "stream",
     "text": [
      "INFO:tensorflow:Evaluation [40/100]\n"
     ]
    },
    {
     "name": "stdout",
     "output_type": "stream",
     "text": [
      "INFO:tensorflow:Evaluation [50/100]\n"
     ]
    },
    {
     "name": "stderr",
     "output_type": "stream",
     "text": [
      "INFO:tensorflow:Evaluation [50/100]\n"
     ]
    },
    {
     "name": "stdout",
     "output_type": "stream",
     "text": [
      "INFO:tensorflow:Evaluation [60/100]\n"
     ]
    },
    {
     "name": "stderr",
     "output_type": "stream",
     "text": [
      "INFO:tensorflow:Evaluation [60/100]\n"
     ]
    },
    {
     "name": "stdout",
     "output_type": "stream",
     "text": [
      "INFO:tensorflow:Evaluation [70/100]\n"
     ]
    },
    {
     "name": "stderr",
     "output_type": "stream",
     "text": [
      "INFO:tensorflow:Evaluation [70/100]\n"
     ]
    },
    {
     "name": "stdout",
     "output_type": "stream",
     "text": [
      "INFO:tensorflow:Evaluation [80/100]\n"
     ]
    },
    {
     "name": "stderr",
     "output_type": "stream",
     "text": [
      "INFO:tensorflow:Evaluation [80/100]\n"
     ]
    },
    {
     "name": "stdout",
     "output_type": "stream",
     "text": [
      "INFO:tensorflow:Evaluation [90/100]\n"
     ]
    },
    {
     "name": "stderr",
     "output_type": "stream",
     "text": [
      "INFO:tensorflow:Evaluation [90/100]\n"
     ]
    },
    {
     "name": "stdout",
     "output_type": "stream",
     "text": [
      "INFO:tensorflow:Evaluation [100/100]\n"
     ]
    },
    {
     "name": "stderr",
     "output_type": "stream",
     "text": [
      "INFO:tensorflow:Evaluation [100/100]\n"
     ]
    },
    {
     "name": "stdout",
     "output_type": "stream",
     "text": [
      "INFO:tensorflow:Inference Time : 1.13713s\n"
     ]
    },
    {
     "name": "stderr",
     "output_type": "stream",
     "text": [
      "INFO:tensorflow:Inference Time : 1.13713s\n"
     ]
    },
    {
     "name": "stdout",
     "output_type": "stream",
     "text": [
      "INFO:tensorflow:Finished evaluation at 2021-12-22-16:56:59\n"
     ]
    },
    {
     "name": "stderr",
     "output_type": "stream",
     "text": [
      "INFO:tensorflow:Finished evaluation at 2021-12-22-16:56:59\n"
     ]
    },
    {
     "name": "stdout",
     "output_type": "stream",
     "text": [
      "INFO:tensorflow:Saving dict for global step 1000: METRICS/E_LOSS = 1.6163075, METRICS/E_MAE = 1.084709, METRICS/E_RMSE = 1.2713408, global_step = 1000, loss = 1.6163075\n"
     ]
    },
    {
     "name": "stderr",
     "output_type": "stream",
     "text": [
      "INFO:tensorflow:Saving dict for global step 1000: METRICS/E_LOSS = 1.6163075, METRICS/E_MAE = 1.084709, METRICS/E_RMSE = 1.2713408, global_step = 1000, loss = 1.6163075\n"
     ]
    },
    {
     "name": "stdout",
     "output_type": "stream",
     "text": [
      "INFO:tensorflow:Saving 'checkpoint_path' summary for global step 1000: ./model.ckpt-1000\n"
     ]
    },
    {
     "name": "stderr",
     "output_type": "stream",
     "text": [
      "INFO:tensorflow:Saving 'checkpoint_path' summary for global step 1000: ./model.ckpt-1000\n"
     ]
    },
    {
     "name": "stdout",
     "output_type": "stream",
     "text": [
      "INFO:tensorflow:Loss for final step: 3.3908906e-05.\n"
     ]
    },
    {
     "name": "stderr",
     "output_type": "stream",
     "text": [
      "INFO:tensorflow:Loss for final step: 3.3908906e-05.\n"
     ]
    },
    {
     "data": {
      "text/plain": [
       "({'METRICS/E_LOSS': 1.6163075,\n",
       "  'METRICS/E_MAE': 1.084709,\n",
       "  'METRICS/E_RMSE': 1.2713408,\n",
       "  'loss': 1.6163075,\n",
       "  'global_step': 1000},\n",
       " [])"
      ]
     },
     "execution_count": 37,
     "metadata": {},
     "output_type": "execute_result"
    }
   ],
   "source": [
    "tf.estimator.train_and_evaluate(model, train_spec, eval_spec)"
   ]
  },
  {
   "cell_type": "code",
   "execution_count": null,
   "id": "2fd08806-6c3a-4b66-812b-0fd0283ab51d",
   "metadata": {},
   "outputs": [],
   "source": [
    "\n",
    "#generate a 80:20 test set. \n",
    "os.chdir(base_dir)\n",
    "cwd = os.getcwd()\n",
    "filelist = glob(cwd+'/PiNN/trainset.xyz')\n",
    "dataset = lambda: load_qm9(filelist, split={'train':8, 'test':2})\n",
    "train = lambda: dataset()['train'].repeat().shuffle(10).apply(sparse_batch(1))\n",
    "test = lambda: dataset()['test'].repeat().apply(sparse_batch(1))\n",
    "\n",
    "                    \n",
    "#os.chdir(base_dir)\n",
    "#!pwd\n",
    "#os.chdir(base_dir+\"/PiNN/\")\n",
    "#!pinn convert trainset.xyz -o 'train:8,test:2' \n"
   ]
  },
  {
   "cell_type": "markdown",
   "id": "ad16c73a-d6ac-4286-a086-786dd502d311",
   "metadata": {},
   "source": [
    "# Train the poteinals "
   ]
  },
  {
   "cell_type": "code",
   "execution_count": null,
   "id": "1659d4ad-1a72-4724-bd5f-564875ac9626",
   "metadata": {},
   "outputs": [],
   "source": [
    "from ase import Atoms\n",
    "datalist = [Atoms(elem) for elem in ['Cu', 'Ag', 'Au']]\n",
    "\n",
    "datalist"
   ]
  },
  {
   "cell_type": "code",
   "execution_count": null,
   "id": "de182cf1-48d9-43f8-9108-51c9ee4d5678",
   "metadata": {},
   "outputs": [],
   "source": [
    "from pinn.io import list_loader\n",
    "\n",
    "@list_loader()\n",
    "def load_ase_list(atoms):\n",
    "    import numpy as np\n",
    "    datum = {'elems': atoms.numbers,\n",
    "            'coord': atoms.positions,\n",
    "            'e_data': 0.0}\n",
    "    return datum"
   ]
  },
  {
   "cell_type": "code",
   "execution_count": null,
   "id": "8881e908-a231-425d-92f2-9a4f686803bc",
   "metadata": {},
   "outputs": [],
   "source": [
    "import tensorflow as tf\n",
    "\n",
    "dataset = load_ase_list(datalist)['train']\n",
    "d = dataset.make_one_shot_iterator().get_next()\n",
    "with tf.Session() as sess:\n",
    "    print(sess.run(d))"
   ]
  },
  {
   "cell_type": "code",
   "execution_count": null,
   "id": "1d161033-5ab6-4db7-a5f9-ace59ba69e71",
   "metadata": {},
   "outputs": [],
   "source": [
    "from pinn.io.base import list_loader\n",
    "\n",
    "def _ase_spec(atoms):\n",
    "    \"\"\"Guess dataset format from an ASE atoms\"\"\"\n",
    "    ds_spec = {\n",
    "        'elems': {'dtype':  'int32', 'shape': [None]},\n",
    "        'coord': {'dtype':  'float', 'shape': [None, 3]}}\n",
    "\n",
    "    if atoms.pbc.any():\n",
    "        ds_spec['cell'] = {'dtype': 'float', 'shape': [3, 3]}\n",
    "\n",
    "    try:\n",
    "        atoms.get_potential_energy()\n",
    "        ds_spec['e_data'] = {'dtype': 'float', 'shape': []}\n",
    "    except:\n",
    "        pass\n",
    "\n",
    "    try:\n",
    "        atoms.get_forces()\n",
    "        ds_spec['f_data'] = {'dtype': 'float', 'shape': [None, 3]}\n",
    "    except:\n",
    "        pass\n",
    "\n",
    "    try:\n",
    "        atoms.get_charges()\n",
    "        ds_spec['q_data'] = {'dtype': 'float', 'shape': [None]}\n",
    "    except:\n",
    "        pass\n",
    "\n",
    "    try:\n",
    "        atoms.get_dipole_moment()\n",
    "        ds_spec['d_data'] = {'dtype': 'float', 'shape': [3]}\n",
    "    except:\n",
    "        pass\n",
    "\n",
    "    return ds_spec\n",
    "\n",
    "def load_ase(dataset, splits=None, shuffle=True, seed=0):\n",
    "    \"\"\"\n",
    "    Loads a ASE trajectory\n",
    "    Args:\n",
    "        dataset (str or ase.io.trajectory): a filename or trajectory\n",
    "        splits (dict): key-val pairs specifying the ratio of subsets\n",
    "        shuffle (bool): shuffle the dataset (only used when splitting)\n",
    "        seed (int): random seed for shuffling\n",
    "    \"\"\"\n",
    "    from ase.io import read\n",
    "\n",
    "    if isinstance(dataset, str):\n",
    "        dataset = read(dataset, index=':')\n",
    "\n",
    "    ds_spec = _ase_spec(dataset[0])\n",
    "    @list_loader(ds_spec=ds_spec)\n",
    "    def _ase_loader(atoms):\n",
    "        datum = {\n",
    "            'elems': atoms.numbers,\n",
    "            'coord': atoms.positions,\n",
    "        }\n",
    "        if 'cell' in ds_spec:\n",
    "            datum['cell'] = atoms.cell[:]\n",
    "\n",
    "        if 'e_data' in ds_spec:\n",
    "            datum['e_data'] = atoms.get_potential_energy()\n",
    "\n",
    "        if 'f_data' in ds_spec:\n",
    "            datum['f_data'] = atoms.get_forces()\n",
    "\n",
    "        if 'q_data' in ds_spec:\n",
    "            datum['q_data'] = atoms.get_charges()\n",
    "\n",
    "        if 'd_data' in ds_spec:\n",
    "            datum['d_data'] = atoms.get_dipole_moment()\n",
    "        return datum\n",
    "\n",
    "    return _ase_loader(dataset, splits=splits, shuffle=shuffle, seed=seed)"
   ]
  }
 ],
 "metadata": {
  "kernelspec": {
   "display_name": "Python 3",
   "language": "python",
   "name": "python3"
  },
  "language_info": {
   "codemirror_mode": {
    "name": "ipython",
    "version": 3
   },
   "file_extension": ".py",
   "mimetype": "text/x-python",
   "name": "python",
   "nbconvert_exporter": "python",
   "pygments_lexer": "ipython3",
   "version": "3.9.7"
  }
 },
 "nbformat": 4,
 "nbformat_minor": 5
}
